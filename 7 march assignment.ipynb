{
 "cells": [
  {
   "cell_type": "code",
   "execution_count": null,
   "id": "8275c1f2-b79f-4166-90c8-96ac4cb0dbc4",
   "metadata": {},
   "outputs": [],
   "source": [
    "#Q1. What are the three measures of central tendency?"
   ]
  },
  {
   "cell_type": "markdown",
   "id": "bd6fde57-8749-43ef-83af-dc9642a76870",
   "metadata": {},
   "source": [
    "there are three common measures of central tendency that are used to describe the center or typical value of a dataset. These three measures are:\n",
    "\n",
    "Mean: The mean is also known as the average. It is calculated by summing up all the values in a dataset and then dividing by the total number of values. The formula for the mean is:\n",
    "\n",
    "Mean (μ) = (Sum of all values) / (Total number of values)\n",
    "\n",
    "The mean is sensitive to extreme values, also known as outliers.\n",
    "\n",
    "Median: The median is the middle value of a dataset when it is arranged in ascending or descending order. If there is an even number of values, the median is the average of the two middle values. The median is not affected by extreme values and is a good measure of central tendency for skewed datasets.\n",
    "\n",
    "Mode: The mode is the value that appears most frequently in a dataset. A dataset can have one mode (unimodal) or multiple modes (multimodal). It is especially useful for categorical data, but it can also be applied to numerical data. Unlike the mean and median, the mode doesn't have to be unique."
   ]
  },
  {
   "cell_type": "code",
   "execution_count": 1,
   "id": "bac14b6c-8d31-4a6e-88cd-f00348816f7d",
   "metadata": {},
   "outputs": [],
   "source": [
    "#Q2. What is the difference between the mean, median, and mode? How are they used to measure the central tendency of a dataset?"
   ]
  },
  {
   "cell_type": "markdown",
   "id": "e1e7cf5b-3e84-486a-aa4b-abb69eb64ced",
   "metadata": {},
   "source": [
    "The mean, median, and mode are three common measures of central tendency in statistics, and they provide insights into the typical or central value of a dataset. Here's an explanation of each and how they are used:\n",
    "\n",
    "Mean:\n",
    "\n",
    "The mean, also known as the average, is calculated by adding up all the values in a dataset and dividing by the total number of values.\n",
    "Formula: Mean = (Sum of all values) / (Number of values)\n",
    "It represents the arithmetic center of the data.\n",
    "The mean is sensitive to extreme values (outliers) and can be influenced by them. If there are outliers in the data, the mean can be skewed in their direction.\n",
    "\n",
    "Median:\n",
    "\n",
    "The median is the middle value when the data is sorted in ascending or descending order. If there is an even number of data points, the median is the average of the two middle values.\n",
    "The median is not affected by extreme values or outliers, making it a robust measure of central tendency.\n",
    "It's especially useful when dealing with skewed or non-normally distributed data.\n",
    "\n",
    "Mode:\n",
    "\n",
    "The mode is the value that appears most frequently in the dataset.\n",
    "A dataset can have no mode (all values are unique, no value repeats), one mode (unimodal), or multiple modes (multimodal).\n",
    "The mode is useful for categorical or discrete data and can provide insights into the most common category or value.\n",
    "How they are used to measure central tendency:\n",
    "\n",
    "Mean is used when you want to find the typical average value of a dataset. It's commonly used with normally distributed data or data without significant outliers.\n",
    "\n",
    "Median is used when you have skewed data or data with outliers, as it provides a central value that is less affected by extreme observations.\n",
    "\n",
    "Mode is used to identify the most frequent category or value in categorical data and can also be used with continuous data to identify the most common range or interval."
   ]
  },
  {
   "cell_type": "code",
   "execution_count": 2,
   "id": "37fc7783-514f-4eed-a29c-f8701fab5b82",
   "metadata": {},
   "outputs": [],
   "source": [
    "#Q3. Measure the three measures of central tendency for the given height data:\n",
    "\n",
    "data1= [178,177,176,177,178.2,178,175,179,180,175,178.9,176.2,177,172.5,178,176.5]"
   ]
  },
  {
   "cell_type": "code",
   "execution_count": 6,
   "id": "2c6106de-8c79-4c28-bc14-a1b9cafe0686",
   "metadata": {},
   "outputs": [
    {
     "name": "stderr",
     "output_type": "stream",
     "text": [
      "/tmp/ipykernel_84/1052820599.py:5: FutureWarning: Unlike other reduction functions (e.g. `skew`, `kurtosis`), the default behavior of `mode` typically preserves the axis it acts along. In SciPy 1.11.0, this behavior will change: the default value of `keepdims` will become False, the `axis` over which the statistic is taken will be eliminated, and the value None will no longer be accepted. Set `keepdims` to True or False to avoid this warning.\n",
      "  mode=stats.mode(data1)\n"
     ]
    }
   ],
   "source": [
    "import numpy as np\n",
    "from scipy import stats\n",
    "mean=np.mean(data1)\n",
    "median=np.median(data1)\n",
    "mode=stats.mode(data1)\n",
    "#print(f\"mean =\" {mean},\"median =\" {median}, \"mode =\" {mode})"
   ]
  },
  {
   "cell_type": "code",
   "execution_count": 7,
   "id": "3ec72e8b-2d4c-4872-8760-dec4ee0f224f",
   "metadata": {},
   "outputs": [
    {
     "data": {
      "text/plain": [
       "177.01875"
      ]
     },
     "execution_count": 7,
     "metadata": {},
     "output_type": "execute_result"
    }
   ],
   "source": [
    "mean"
   ]
  },
  {
   "cell_type": "code",
   "execution_count": 8,
   "id": "d035de1c-188f-4ae8-aaf7-8714df20f0a3",
   "metadata": {},
   "outputs": [
    {
     "data": {
      "text/plain": [
       "177.0"
      ]
     },
     "execution_count": 8,
     "metadata": {},
     "output_type": "execute_result"
    }
   ],
   "source": [
    "median\n"
   ]
  },
  {
   "cell_type": "code",
   "execution_count": 9,
   "id": "bf86bf45-1a8e-4b6c-86e3-ef44df702d53",
   "metadata": {},
   "outputs": [
    {
     "data": {
      "text/plain": [
       "ModeResult(mode=array([177.]), count=array([3]))"
      ]
     },
     "execution_count": 9,
     "metadata": {},
     "output_type": "execute_result"
    }
   ],
   "source": [
    "mode"
   ]
  },
  {
   "cell_type": "code",
   "execution_count": 10,
   "id": "63874419-f646-4b9b-82fe-27ca747b8a2b",
   "metadata": {},
   "outputs": [],
   "source": [
    "#Q4. Find the standard deviation for the given data:\n",
    "\n",
    "data2=[178,177,176,177,178.2,178,175,179,180,175,178.9,176.2,177,172.5,178,176.5]"
   ]
  },
  {
   "cell_type": "code",
   "execution_count": 11,
   "id": "294bf0f1-9fd8-4529-a674-a29db42e6abb",
   "metadata": {},
   "outputs": [],
   "source": [
    "stnd_dev=np.std(data2)"
   ]
  },
  {
   "cell_type": "code",
   "execution_count": 12,
   "id": "56f02c90-e2a5-4805-8656-d2b29a6b5c8d",
   "metadata": {},
   "outputs": [
    {
     "data": {
      "text/plain": [
       "1.7885814036548633"
      ]
     },
     "execution_count": 12,
     "metadata": {},
     "output_type": "execute_result"
    }
   ],
   "source": [
    "stnd_dev"
   ]
  },
  {
   "cell_type": "code",
   "execution_count": 1,
   "id": "e06a32a8-1bbe-419e-9817-b83207fef714",
   "metadata": {},
   "outputs": [],
   "source": [
    "#Q5. How are measures of dispersion such as range, variance, and standard deviation used to describe the spread of a dataset? Provide an example."
   ]
  },
  {
   "cell_type": "markdown",
   "id": "f8eade9a-c8fd-46e2-a908-60031eb15089",
   "metadata": {},
   "source": [
    "Measures of dispersion, such as range, variance, and standard deviation, are essential statistical tools used to describe the spread or variability of data within a dataset. They help us understand how data points are distributed around the central tendency (usually the mean) and provide insights into the data's overall consistency or variability. Here's how each of these measures works and an example to illustrate their usage:\n",
    "\n",
    "Range:\n",
    "\n",
    "Definition: The range is the simplest measure of dispersion. It represents the difference between the maximum and minimum values in a dataset.\n",
    "Usage: It gives a rough estimate of how widely spread the data points are.\n",
    "Example: Consider a dataset of exam scores for a class: [65, 78, 85, 92, 55]. The range would be 92 (maximum) - 55 (minimum) = 37.\n",
    "\n",
    "Variance:\n",
    "\n",
    "Definition: Variance measures how individual data points deviate from the mean. It calculates the average of the squared differences between each data point and the mean.\n",
    "Usage: A higher variance indicates that data points are spread out more widely from the mean.\n",
    "Example: Let's use the same dataset of exam scores. First, calculate the mean (mean = (65 + 78 + 85 + 92 + 55) / 5 = 75). Then, calculate the squared differences from the mean for each score: [(65-75)^2, (78-75)^2, (85-75)^2, (92-75)^2, (55-75)^2]. The variance is the average of these squared differences.\n",
    "\n",
    "Standard Deviation:\n",
    "\n",
    "Definition: The standard deviation is the square root of the variance. It measures the average amount of deviation or spread of data points from the mean.\n",
    "Usage: It provides a more interpretable measure of the spread, as it is in the same unit as the data.\n",
    "Example: Continuing with the exam scores example, after calculating the variance, take its square root to find the standard deviation.\n",
    "For instance, if the variance of the exam scores was calculated to be 150, then the standard deviation would be the square root of 150, which is approximately 12.25."
   ]
  },
  {
   "cell_type": "code",
   "execution_count": 2,
   "id": "6c9c3711-0fbf-4ec7-91ab-7214b58c1e2b",
   "metadata": {},
   "outputs": [],
   "source": [
    "#Q6. What is a Venn diagram?"
   ]
  },
  {
   "cell_type": "markdown",
   "id": "0138b29e-fd17-462a-aae5-2e26e4119868",
   "metadata": {},
   "source": [
    "A Venn diagram is a graphical representation used to show the relationship between different sets or groups of data. It consists of overlapping circles, each representing a set, and the areas where the circles overlap represent the elements that belong to both sets. Venn diagrams are a helpful tool for visualizing the similarities and differences between sets, making it easier to understand the relationships between them.\n",
    "\n",
    "Venn diagrams are typically used in mathematics, logic, and various fields such as statistics, probability, and computer science to illustrate concepts related to set theory and logical relationships. They are also used in more general contexts, such as in education and business, to compare and contrast different categories or groups of items."
   ]
  },
  {
   "cell_type": "code",
   "execution_count": 3,
   "id": "29119235-726a-4b5f-b22e-a3984e521124",
   "metadata": {},
   "outputs": [],
   "source": [
    "#Q7. For the two given sets A = (2,3,4,5,6,7) & B = (0,2,6,8,10). Find:"
   ]
  },
  {
   "cell_type": "markdown",
   "id": "7f46139c-8e52-45a6-91a3-15c44a6b47ec",
   "metadata": {},
   "source": [
    "(i) \tA n B = (2,6)\n",
    "\n",
    "(ii)\tA ⋃ B = (0,2,3,4,5,6,7,8,10)"
   ]
  },
  {
   "cell_type": "code",
   "execution_count": 4,
   "id": "1337a94c-d5dc-4b70-8820-c8860b8c4896",
   "metadata": {},
   "outputs": [],
   "source": [
    "#Q8. What do you understand about skewness in data?\n"
   ]
  },
  {
   "cell_type": "markdown",
   "id": "55f17a6b-2441-4cf5-a00d-b0194f009752",
   "metadata": {},
   "source": [
    "\n",
    "Skewness in data is a statistical measure that helps us understand the asymmetry or lack of symmetry in the distribution of a dataset. It provides insights into the shape of the data's probability distribution curve. Skewness indicates whether the data is skewed to the left (negatively skewed), skewed to the right (positively skewed), or approximately symmetrically distributed (no skew).\n",
    "\n",
    "Negative Skew (Left Skew): In a negatively skewed distribution, the tail on the left side of the distribution is longer or fatter than the right side. This means that the majority of the data points are concentrated on the right side of the distribution, while there are a few extremely low values on the left side. The mean is typically less than the median in a negatively skewed distribution."
   ]
  },
  {
   "cell_type": "markdown",
   "id": "c230f4db-9206-4886-9f25-9334c0240c1b",
   "metadata": {},
   "source": [
    "Positive Skew (Right Skew): In a positively skewed distribution, the tail on the right side of the distribution is longer or fatter than the left side. This implies that the majority of data points are concentrated on the left side of the distribution, while there are a few extremely high values on the right side. The mean is usually greater than the median in a positively skewed distribution."
   ]
  },
  {
   "cell_type": "markdown",
   "id": "d6f0432b-78d4-4c60-90b0-9afee19a4487",
   "metadata": {},
   "source": [
    "Symmetric (No Skew): A symmetric distribution is one where the data is evenly distributed on both sides of the mean, resulting in a balanced or bell-shaped curve. In this case, the mean and median are approximately equal, and there is no skewness."
   ]
  },
  {
   "cell_type": "code",
   "execution_count": 5,
   "id": "c3bc949b-7139-4e9a-9d25-b6b2c9dd61af",
   "metadata": {},
   "outputs": [],
   "source": [
    "#Q9. If a data is right skewed then what will be the position of median with respect to mean?"
   ]
  },
  {
   "cell_type": "markdown",
   "id": "2ef9f32d-9149-49e3-8ad6-2704fe96d606",
   "metadata": {},
   "source": [
    "If a dataset is right-skewed, it means that the tail on the right-hand side (the higher values) is longer or stretched out compared to the left-hand side (the lower values). In such a distribution:\n",
    "\n",
    "The mean (average) will typically be greater than the median.\n",
    "\n",
    "The median will be closer to the left (lower) values than the mean.\n",
    "\n",
    "This is because the long right tail of the distribution, with its higher values, pulls the mean to the right, making it greater than the median. The median, on the other hand, is less affected by extreme values in the tail and tends to stay closer to the bulk of the data, which is on the left side in a right-skewed distribution."
   ]
  },
  {
   "cell_type": "code",
   "execution_count": 6,
   "id": "1af87632-9273-48ce-b2ae-6d694c8800e0",
   "metadata": {},
   "outputs": [],
   "source": [
    "#Q10. Explain the difference between covariance and correlation. How are these measures used in statistical analysis?"
   ]
  },
  {
   "cell_type": "markdown",
   "id": "c59ca34e-ef23-48ed-afce-e576c5c5d846",
   "metadata": {},
   "source": [
    "Covariance:\n",
    "Covariance measures the degree to which two variables change together. It indicates whether an increase in one variable corresponds to an increase or decrease in another. The formula for covariance between two variables X and Y is:\n",
    "\n",
    "Cov(X, Y) = Σ [(Xᵢ - μₓ) * (Yᵢ - μᵧ)] / (n - 1)\n",
    "\n",
    "Where:\n",
    "\n",
    "Xᵢ and Yᵢ are individual data points.\n",
    "μₓ and μᵧ are the means (averages) of X and Y, respectively.\n",
    "n is the number of data points.\n",
    "\n",
    "Interpreting covariance:\n",
    "\n",
    "If Cov(X, Y) is positive, it means that when X increases, Y tends to increase as well.\n",
    "If Cov(X, Y) is negative, it means that when X increases, Y tends to decrease.\n",
    "If Cov(X, Y) is close to zero, it suggests that there is little to no linear relationship between X and Y.\n",
    "Correlation:\n",
    "Correlation, on the other hand, is a standardized measure of the linear relationship between two variables. It's a dimensionless value that falls within the range of -1 to 1, \n",
    "\n",
    "where:\n",
    "\n",
    "1 indicates a perfect positive linear relationship.\n",
    "-1 indicates a perfect negative linear relationship.\n",
    "0 indicates no linear relationship.\n",
    "The formula for the Pearson correlation coefficient (the most common type of correlation) is:\n",
    "\n",
    "Corr(X, Y) = Cov(X, Y) / (σₓ * σᵧ)\n",
    "\n",
    "Where:\n",
    "\n",
    "Cov(X, Y) is the covariance between X and Y.\n",
    "σₓ and σᵧ are the standard deviations of X and Y, respectively.\n",
    "\n",
    "Interpreting correlation:\n",
    "\n",
    "A correlation coefficient of 1 indicates a perfect positive linear relationship.\n",
    "A correlation coefficient of -1 indicates a perfect negative linear relationship.\n",
    "A correlation coefficient of 0 indicates no linear relationship.\n",
    "Values between -1 and 1 indicate the strength and direction of the linear relationship. The closer to -1 or 1, the stronger the relationship.\n",
    "\n",
    "In statistical analysis:\n",
    "\n",
    "Covariance is primarily used to understand how two variables change together, but it doesn't provide a standardized measure of the strength of the relationship.\n",
    "Correlation is used to not only understand the direction of the relationship but also its strength. It's particularly useful for comparing relationships between different pairs of variables because it's dimensionless."
   ]
  },
  {
   "cell_type": "code",
   "execution_count": 7,
   "id": "1e381d7c-9812-4a8c-a166-7256124502c4",
   "metadata": {},
   "outputs": [],
   "source": [
    "#Q11. What is the formula for calculating the sample mean? Provide an example calculation for a dataset."
   ]
  },
  {
   "cell_type": "markdown",
   "id": "02af9d67-8648-49a0-9d5a-4ff1f34c94b3",
   "metadata": {},
   "source": [
    "The formula for calculating the sample mean, often denoted as \"x̄\" (pronounced as \"x-bar\"), is the sum of all values in a dataset divided by the number of data points in that dataset. Mathematically, it can be expressed as:\n",
    "\n",
    "Sample Mean x̄= (xi)/n \n",
    "\n",
    "Where:\n",
    "\n",
    "x̄ represents the sample mean.\n",
    "\n",
    "n is the number of data points in the dataset.\n",
    "\n",
    "xi represents each individual data point in the dataset.\n"
   ]
  },
  {
   "cell_type": "code",
   "execution_count": 11,
   "id": "6439afb7-b245-4d37-8dbb-22c6662e85fc",
   "metadata": {},
   "outputs": [
    {
     "name": "stdout",
     "output_type": "stream",
     "text": [
      "mean =  86.6\n"
     ]
    }
   ],
   "source": [
    "import numpy as np\n",
    "Dataset= [85,92,78,90,88]\n",
    "mean=np.mean(Dataset)\n",
    "print(\"mean = \",mean)"
   ]
  },
  {
   "cell_type": "code",
   "execution_count": 12,
   "id": "241703e7-c69b-438b-92eb-8ec12d856791",
   "metadata": {},
   "outputs": [],
   "source": [
    "#Q12. For a normal distribution data what is the relationship between its measure of central tendency?"
   ]
  },
  {
   "cell_type": "markdown",
   "id": "2f7767c0-e288-4b97-ac7d-623874070262",
   "metadata": {},
   "source": [
    "In a normal distribution, also known as a Gaussian distribution or bell curve, the measures of central tendency are the mean, median, and mode.\n",
    "\n",
    "Mean (Average): The mean is the most common measure of central tendency. It represents the arithmetic average of all data points in the distribution. In a perfectly symmetrical normal distribution, the mean is located at the center of the curve, and it is equal to the median and mode.\n",
    "\n",
    "Median (Middle Value): The median is the middle value of a dataset when it is arranged in ascending or descending order. In a normal distribution, the median is also equal to the mean and mode. However, in skewed distributions, the median may differ from the mean.\n",
    "\n",
    "Mode (Most Frequent Value): The mode is the value that occurs most frequently in the dataset. In a normal distribution, there is only one mode, and it is equal to both the mean and median."
   ]
  },
  {
   "cell_type": "code",
   "execution_count": 13,
   "id": "46374488-5056-4072-958f-87886e755aae",
   "metadata": {},
   "outputs": [],
   "source": [
    "#Q13. How is covariance different from correlation?"
   ]
  },
  {
   "cell_type": "markdown",
   "id": "b9e1703d-94d7-4c7e-8d79-0d4b56758669",
   "metadata": {},
   "source": [
    "Covariance and correlation are both statistical measures that describe the relationship between two variables, but they serve different purposes and have distinct characteristics.\n",
    "\n",
    "Covariance:\n",
    "Covariance is a measure of how two variables change together. It indicates the direction of the linear relationship between two variables. \n",
    "\n",
    "Here's how it works:\n",
    "\n",
    "If the covariance is positive, it means that as one variable increases, the other tends to increase as well.\n",
    "If the covariance is negative, it means that as one variable increases, the other tends to decrease.\n",
    "If the covariance is close to zero, it means that there is little to no linear relationship between the variables.\n",
    "However, the magnitude of the covariance is not standardized, which means it can be challenging to compare covariances across different datasets or variables. It's also sensitive to the scale of the variables, making it hard to interpret the strength of the relationship.\n",
    "\n",
    "Correlation:\n",
    "\n",
    "Correlation, on the other hand, is a standardized measure of the linear relationship between two variables. It is calculated using the covariance but scales it to a range of -1 to 1, making it easier to interpret and compare. The formula for correlation is:\n",
    "\n",
    "Correlation (r) = Corr(X,Y) = Cov[X,Y] / ( StdDev(X) ∙ StdDev(Y) )\n",
    "\n",
    "Key points about correlation:\n",
    "\n",
    "A correlation of 1 indicates a perfect positive linear relationship, while -1 indicates a perfect negative linear relationship.\n",
    "A correlation of 0 means there is no linear relationship between the variables.\n",
    "Correlation is not affected by changes in scale, so it can be used to compare relationships between different pairs of variables."
   ]
  },
  {
   "cell_type": "code",
   "execution_count": 14,
   "id": "c7d93897-3a72-4b42-bc65-48a817bd6e4f",
   "metadata": {},
   "outputs": [],
   "source": [
    "#Q14. How do outliers affect measures of central tendency and dispersion? Provide an example."
   ]
  },
  {
   "cell_type": "markdown",
   "id": "89798635-4ade-4625-9260-a6cbc51f3d10",
   "metadata": {},
   "source": [
    "Outliers can significantly influence measures of central tendency and dispersion in statistical data analysis. Central tendency measures, such as the mean, median, and mode, give us an idea of where the \"center\" of the data lies, while dispersion measures, like the range, variance, and standard deviation, indicate how spread out the data points are.\n",
    "\n",
    "Here's how outliers affect these measures:\n",
    "\n",
    "Mean (Average): Outliers can greatly impact the mean. A single extreme outlier can pull the mean in its direction. For example, consider a dataset of monthly salaries of employees in a company where most earn between $40,000 and $60,000, but the CEO earns $10 million. In this case, the mean salary will be heavily influenced by the CEO's salary, making it much higher than what most employees earn.\n",
    "\n",
    "Median: The median is less affected by outliers compared to the mean. It represents the middle value when the data is sorted. If there are outliers, they don't impact the middle value as much. Using the same salary dataset, the median would still be in the $40,000 to $60,000 range, unaffected by the CEO's salary.\n",
    "\n",
    "Mode: Outliers generally do not affect the mode since it represents the most frequent value(s) in the dataset. In the salary example, the mode would still be within the $40,000 to $60,000 range, irrespective of the CEO's salary."
   ]
  },
  {
   "cell_type": "code",
   "execution_count": null,
   "id": "b504dac8-c955-427c-aeb3-32262f2d1468",
   "metadata": {},
   "outputs": [],
   "source": []
  }
 ],
 "metadata": {
  "kernelspec": {
   "display_name": "Python 3 (ipykernel)",
   "language": "python",
   "name": "python3"
  },
  "language_info": {
   "codemirror_mode": {
    "name": "ipython",
    "version": 3
   },
   "file_extension": ".py",
   "mimetype": "text/x-python",
   "name": "python",
   "nbconvert_exporter": "python",
   "pygments_lexer": "ipython3",
   "version": "3.10.8"
  }
 },
 "nbformat": 4,
 "nbformat_minor": 5
}

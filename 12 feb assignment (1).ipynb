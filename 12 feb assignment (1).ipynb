{
 "cells": [
  {
   "cell_type": "code",
   "execution_count": 2,
   "id": "477963dd-e902-4088-addd-355df85bd063",
   "metadata": {},
   "outputs": [],
   "source": [
    "#What is an Exception in python? Write the difference between Exceptions and syntx errors"
   ]
  },
  {
   "cell_type": "markdown",
   "id": "9bed12ce-91b1-4d88-830b-bb7ac7ecc032",
   "metadata": {},
   "source": [
    "An Exception in Python refers to an event that occurs during the execution of a program, which disrupts the normal flow of the program's instructions. It is an object that represents an exceptional condition or error that can happen during the program's execution.\n",
    "\n",
    "Exceptions can occur for various reasons, such as accessing an undefined variable, dividing a number by zero, or opening a file that doesn't exist. When an exception occurs, Python generates an exception object and halts the execution of the program, unless the exception is caught and handled by appropriate code.\n",
    "\n",
    "On the other hand, syntax errors are different from exceptions. Syntax errors occur when you violate the rules of Python's syntax, meaning that your code doesn't follow the proper structure and grammar of the language. These errors are typically detected by the Python interpreter during the parsing stage, before the program's execution begins.\n",
    "\n",
    "Syntax errors commonly occur due to missing or incorrect punctuation, misspelled keywords, or incorrect indentation. Unlike exceptions, syntax errors prevent the program from running at all because the Python interpreter cannot understand the code.\n",
    "\n",
    "To summarize, the key difference between exceptions and syntax errors in Python is that exceptions are runtime errors that occur during program execution, while syntax errors are detected by the interpreter before the program starts running, due to violations of the language's syntax rules."
   ]
  },
  {
   "cell_type": "code",
   "execution_count": 3,
   "id": "16f00ca7-e07c-4bbb-9edc-48065748a5a0",
   "metadata": {},
   "outputs": [],
   "source": [
    "#What hppens when an exception is not handled? Explain with an example"
   ]
  },
  {
   "cell_type": "markdown",
   "id": "069a637d-da2b-4ab7-8175-b3896986563b",
   "metadata": {},
   "source": [
    "When an exception is not handled in Python, it leads to the termination of the program's normal flow and the generation of an error message. This abrupt termination is known as an \"unhandled exception.\" Let me explain with an example:\n",
    "\n",
    "Suppose we have a Python program that divides two numbers provided by the user. Let's say the user enters the divisor as 0, which is an invalid input. If this exception is not handled in the code, it will result in an unhandled exception."
   ]
  },
  {
   "cell_type": "code",
   "execution_count": 4,
   "id": "85687ac6-5072-4b99-9b36-8e82f531a726",
   "metadata": {},
   "outputs": [
    {
     "name": "stdin",
     "output_type": "stream",
     "text": [
      "please enter numerator 12\n",
      "please enter divisor 0\n"
     ]
    },
    {
     "ename": "ZeroDivisionError",
     "evalue": "division by zero",
     "output_type": "error",
     "traceback": [
      "\u001b[0;31m---------------------------------------------------------------------------\u001b[0m",
      "\u001b[0;31mZeroDivisionError\u001b[0m                         Traceback (most recent call last)",
      "Cell \u001b[0;32mIn[4], line 3\u001b[0m\n\u001b[1;32m      1\u001b[0m numerator\u001b[38;5;241m=\u001b[39m\u001b[38;5;28mint\u001b[39m(\u001b[38;5;28minput\u001b[39m(\u001b[38;5;124m\"\u001b[39m\u001b[38;5;124mplease enter numerator\u001b[39m\u001b[38;5;124m\"\u001b[39m))\n\u001b[1;32m      2\u001b[0m divisor\u001b[38;5;241m=\u001b[39m\u001b[38;5;28mint\u001b[39m(\u001b[38;5;28minput\u001b[39m(\u001b[38;5;124m\"\u001b[39m\u001b[38;5;124mplease enter divisor\u001b[39m\u001b[38;5;124m\"\u001b[39m))\n\u001b[0;32m----> 3\u001b[0m result\u001b[38;5;241m=\u001b[39m\u001b[43mnumerator\u001b[49m\u001b[38;5;241;43m/\u001b[39;49m\u001b[43mdivisor\u001b[49m\n",
      "\u001b[0;31mZeroDivisionError\u001b[0m: division by zero"
     ]
    }
   ],
   "source": [
    "numerator=int(input(\"please enter numerator\"))\n",
    "divisor=int(input(\"please enter divisor\"))\n",
    "result=numerator/divisor"
   ]
  },
  {
   "cell_type": "code",
   "execution_count": 5,
   "id": "26d141e9-6d03-4778-beef-33bc9f478941",
   "metadata": {},
   "outputs": [],
   "source": [
    "#Which Python statements are used to catch and handle exceptions? Explain with an example"
   ]
  },
  {
   "cell_type": "markdown",
   "id": "cf56963d-7779-45b6-b878-3977cff5b377",
   "metadata": {},
   "source": [
    "The try statement is used to enclose a block of code that might raise an exception. It is followed by one or more except statements, which specify the types of exceptions to catch and how to handle them. If an exception occurs within the try block, Python will jump to the corresponding except block."
   ]
  },
  {
   "cell_type": "code",
   "execution_count": 6,
   "id": "84b2b3bb-5683-428a-9d87-ce2139db4a3c",
   "metadata": {},
   "outputs": [
    {
     "name": "stdin",
     "output_type": "stream",
     "text": [
      "please enter numerator 10\n",
      "please enter divisor 0\n"
     ]
    },
    {
     "name": "stdout",
     "output_type": "stream",
     "text": [
      "not divisible by zero\n",
      "always print\n"
     ]
    }
   ],
   "source": [
    "try:\n",
    "    numerator=int(input(\"please enter numerator\"))\n",
    "    divisor=int(input(\"please enter divisor\"))\n",
    "    result=numerator/divisor\n",
    "    \n",
    "except ZeroDivisionError:\n",
    "    print(\"not divisible by zero\")\n",
    "    \n",
    "else:\n",
    "    print(\"No exceptions occurred\")\n",
    "    \n",
    "finally:\n",
    "    print(\"always print\")"
   ]
  },
  {
   "cell_type": "code",
   "execution_count": 2,
   "id": "66894e82-3749-4074-a4af-5b3fbbd51b46",
   "metadata": {},
   "outputs": [],
   "source": [
    "#Explain with an exmple:\n",
    "#try and else\n",
    "#finally\n",
    "#raise"
   ]
  },
  {
   "cell_type": "markdown",
   "id": "d13a70bb-4d5a-4b72-9f4e-f4d4e3116eda",
   "metadata": {},
   "source": [
    "Try and Except:\n",
    "The try and except statements are used for handling exceptions or errors in Python. They allow you to catch and handle specific types of errors that may occur during the execution of your code."
   ]
  },
  {
   "cell_type": "code",
   "execution_count": 3,
   "id": "12df02b0-daa2-4191-9a0b-39f695ee7280",
   "metadata": {},
   "outputs": [
    {
     "name": "stdin",
     "output_type": "stream",
     "text": [
      "please enter numerator 15\n",
      "please enter divisor sas\n"
     ]
    },
    {
     "name": "stdout",
     "output_type": "stream",
     "text": [
      "Invalid Value, please enter a valid number\n"
     ]
    }
   ],
   "source": [
    "try:\n",
    "    numerator=int(input(\"please enter numerator\"))\n",
    "    divisor=int(input(\"please enter divisor\"))\n",
    "    result=numerator/divisor\n",
    "    \n",
    "except ValueError:\n",
    "    print(\"Invalid Value, please enter a valid number\")\n",
    "except ZeroDivisionError:\n",
    "    print(\"not divisible by zero\")"
   ]
  },
  {
   "cell_type": "markdown",
   "id": "b776b0b8-16c4-4445-8451-b590ca6715fd",
   "metadata": {},
   "source": [
    "Else:\n",
    "The else statement is used in conjunction with the try and except statements. It allows you to specify a block of code to execute when no exceptions are raised in the try block."
   ]
  },
  {
   "cell_type": "code",
   "execution_count": 4,
   "id": "396c0913-6a5e-4171-97cc-29d923ab361f",
   "metadata": {},
   "outputs": [
    {
     "name": "stdin",
     "output_type": "stream",
     "text": [
      "please enter numerator 10\n",
      "please enter divisor 5\n"
     ]
    },
    {
     "name": "stdout",
     "output_type": "stream",
     "text": [
      "the result is 2.0\n"
     ]
    }
   ],
   "source": [
    "try:\n",
    "    numerator=int(input(\"please enter numerator\"))\n",
    "    divisor=int(input(\"please enter divisor\"))\n",
    "    result=numerator/divisor\n",
    "    \n",
    "except ValueError:\n",
    "    print(\"Invalid Value, please enter a valid number\")\n",
    "except ZeroDivisionError:\n",
    "    print(\"not divisible by zero\")\n",
    "    \n",
    "else:\n",
    "    print(f\"the result is {result}\")"
   ]
  },
  {
   "cell_type": "markdown",
   "id": "007d8e87-5d1c-482c-9545-fdc9781cef1c",
   "metadata": {},
   "source": [
    "Finally:\n",
    "The finally statement is used to define a block of code that will always be executed, regardless of whether an exception is raised or not. It is typically used for tasks that need to be performed regardless of the outcome of the code."
   ]
  },
  {
   "cell_type": "code",
   "execution_count": 7,
   "id": "4d1a3177-b062-49a6-907c-da84f1ffcaf3",
   "metadata": {},
   "outputs": [
    {
     "name": "stdout",
     "output_type": "stream",
     "text": [
      "File not  found\n"
     ]
    },
    {
     "ename": "NameError",
     "evalue": "name 'file' is not defined",
     "output_type": "error",
     "traceback": [
      "\u001b[0;31m---------------------------------------------------------------------------\u001b[0m",
      "\u001b[0;31mNameError\u001b[0m                                 Traceback (most recent call last)",
      "Cell \u001b[0;32mIn[7], line 8\u001b[0m\n\u001b[1;32m      5\u001b[0m     \u001b[38;5;28mprint\u001b[39m(\u001b[38;5;124m\"\u001b[39m\u001b[38;5;124mFile not  found\u001b[39m\u001b[38;5;124m\"\u001b[39m)\n\u001b[1;32m      7\u001b[0m \u001b[38;5;28;01mfinally\u001b[39;00m:\n\u001b[0;32m----> 8\u001b[0m     \u001b[43mfile\u001b[49m\u001b[38;5;241m.\u001b[39mclose()\n",
      "\u001b[0;31mNameError\u001b[0m: name 'file' is not defined"
     ]
    }
   ],
   "source": [
    "try:\n",
    "    file=open(\"sand.txt\",\"r\")\n",
    "    \n",
    "except FileNotFoundError:\n",
    "    print(\"File not  found\")\n",
    "\n",
    "finally:\n",
    "    file.close()"
   ]
  },
  {
   "cell_type": "markdown",
   "id": "090bba43-047f-401c-97ec-90c556e4aa93",
   "metadata": {},
   "source": [
    "Raise:\n",
    "The raise statement is used to explicitly raise an exception in Python. It allows you to create and raise custom exceptions or raise built-in exceptions to handle specific error conditions."
   ]
  },
  {
   "cell_type": "code",
   "execution_count": 8,
   "id": "5abcd283-6a81-48c3-b153-49b09ea03d37",
   "metadata": {},
   "outputs": [
    {
     "name": "stdout",
     "output_type": "stream",
     "text": [
      "price cant be negative\n"
     ]
    }
   ],
   "source": [
    "def calculate_discount(price):\n",
    "    if price<0:\n",
    "        raise ValueError(\"price cant be negative\")\n",
    "    \n",
    "    elif price==0:\n",
    "        raise ZeroDivisionError(\"price cant be zero\")\n",
    "        \n",
    "    else:\n",
    "        discount=(price*0.1)\n",
    "        return discount\n",
    "    \n",
    "try:\n",
    "    discount_amount=calculate_discount(-100)\n",
    "\n",
    "except ValueError as e:\n",
    "    print(e)\n",
    "        "
   ]
  },
  {
   "cell_type": "code",
   "execution_count": 9,
   "id": "766750b0-9684-43a2-a229-3ee6aa70f94c",
   "metadata": {},
   "outputs": [],
   "source": [
    "#What are Custom Exceptions in python? Why do we need Custom Exceptions? Explain with an example"
   ]
  },
  {
   "cell_type": "markdown",
   "id": "67c92952-c6ce-4520-bea1-216c9145ac01",
   "metadata": {},
   "source": [
    "custom exceptions are user-defined exception classes that allow developers to create their own exception types based on their specific needs. While Python provides a set of built-in exceptions, such as ValueError or TypeError, custom exceptions provide a way to handle application-specific errors that may not be covered by the standard exceptions.\n",
    "\n",
    "There are several reasons why we need custom exceptions in Python:\n",
    "\n",
    "Improved Error Handling: By creating custom exceptions, we can make our code more readable and expressive. Instead of using generic exceptions, custom exceptions allow us to provide more specific error messages and handle different types of errors in a more precise manner.\n",
    "\n",
    "Code Organization: Custom exceptions help in organizing code by encapsulating related errors within their own exception class. This makes it easier to manage and maintain the codebase, especially in larger projects.\n",
    "\n",
    "Exception Hierarchy: Custom exceptions can be organized in a hierarchy, where a base exception class can serve as a parent class for more specific exception classes. This allows for better categorization of errors and enables catching exceptions at different levels of granularity."
   ]
  },
  {
   "cell_type": "code",
   "execution_count": 1,
   "id": "7ede640e-ad5b-4b38-8cbd-3159eea3b46e",
   "metadata": {},
   "outputs": [
    {
     "name": "stdout",
     "output_type": "stream",
     "text": [
      "insufficient funds. Additional amount needed : 50\n"
     ]
    }
   ],
   "source": [
    "class InsufficientFundError(Exception):\n",
    "    def __init__(self,amount_needed):\n",
    "        self.amount_needed=amount_needed\n",
    "        super().__init__(f\"insufficient funds. Additional amount needed : {amount_needed}\")\n",
    "        \n",
    "def withdraw_from_account(account_balance, amount):\n",
    "    if account_balance<amount:\n",
    "        raise InsufficientFundError(amount-account_balance)\n",
    "    else:\n",
    "        pass\n",
    "try:\n",
    "    account_balance=100\n",
    "    withraw_amount=150\n",
    "    withdraw_from_account(account_balance, withraw_amount)\n",
    "except InsufficientFundError as e:\n",
    "    print(e)"
   ]
  },
  {
   "cell_type": "code",
   "execution_count": 2,
   "id": "86ad0681-cd3f-47ef-a4d4-3f594abff722",
   "metadata": {},
   "outputs": [],
   "source": [
    "#Create a custom exception class. Use this class to handle an exception"
   ]
  },
  {
   "cell_type": "code",
   "execution_count": 7,
   "id": "39bcb57c-1ff6-48f5-8e28-2e3f1f16ddbe",
   "metadata": {},
   "outputs": [
    {
     "name": "stdout",
     "output_type": "stream",
     "text": [
      "an error is occured :  Division is not allow by zero\n"
     ]
    }
   ],
   "source": [
    "class Custom_Exception(Exception):\n",
    "    def __init__(self,message):\n",
    "        self.message=message\n",
    "        \n",
    "    def __str__(self):\n",
    "        return self.message\n",
    "    \n",
    "def divide(a,b):\n",
    "    if b==0:\n",
    "        raise Custom_Exception(\"Division is not allow by zero\")\n",
    "        \n",
    "    return a/b\n",
    "try:\n",
    "    result=divide(51,0)\n",
    "    print(result)\n",
    "    \n",
    "except Custom_Exception as e:\n",
    "    print(\"an error is occured : \" ,e)\n",
    "    "
   ]
  },
  {
   "cell_type": "code",
   "execution_count": null,
   "id": "998063e2-e2c9-4ee2-b501-6f5eb87e25c7",
   "metadata": {},
   "outputs": [],
   "source": []
  }
 ],
 "metadata": {
  "kernelspec": {
   "display_name": "Python 3 (ipykernel)",
   "language": "python",
   "name": "python3"
  },
  "language_info": {
   "codemirror_mode": {
    "name": "ipython",
    "version": 3
   },
   "file_extension": ".py",
   "mimetype": "text/x-python",
   "name": "python",
   "nbconvert_exporter": "python",
   "pygments_lexer": "ipython3",
   "version": "3.10.8"
  }
 },
 "nbformat": 4,
 "nbformat_minor": 5
}

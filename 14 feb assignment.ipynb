{
 "cells": [
  {
   "cell_type": "code",
   "execution_count": null,
   "id": "be919d24-4646-40fb-a49e-74fe4687aa20",
   "metadata": {},
   "outputs": [],
   "source": [
    "#1 What is multithreading in python? Why is it used? Name the module used to handle threads in python"
   ]
  },
  {
   "cell_type": "markdown",
   "id": "479861dc-8829-44a5-98e7-769b3802e094",
   "metadata": {},
   "source": [
    "Multithreading in Python refers to the ability of a program to execute multiple threads concurrently, allowing for parallel execution of tasks. A thread is a lightweight subprocess within a process, and multithreading enables different parts of a program to run independently.\n",
    "\n",
    "Multithreading is used in Python for several reasons:\n",
    "\n",
    "Concurrency: By using multiple threads, a program can execute multiple tasks simultaneously, thereby achieving concurrency. This is particularly useful in scenarios where tasks can be performed independently or when waiting for certain operations (such as I/O) to complete.\n",
    "\n",
    "Responsiveness: Multithreading helps in keeping a program responsive to user interactions. For example, in a graphical user interface (GUI) application, using threads allows the user interface to remain interactive while performing time-consuming tasks in the background.\n",
    "\n",
    "Utilizing CPU Cores: Multithreading can leverage multiple CPU cores, enabling efficient utilization of hardware resources. This is especially beneficial in computationally intensive applications where parallel processing can significantly speed up the execution.\n",
    "\n",
    "Python provides a built-in module called threading to handle threads. The threading module allows the creation, management, and synchronization of threads in Python. Here's an example that demonstrates the usage of the threading module:"
   ]
  },
  {
   "cell_type": "code",
   "execution_count": null,
   "id": "bb7bdd53-0db2-47d1-a4dd-004f9d2d6f65",
   "metadata": {},
   "outputs": [],
   "source": [
    "import threading\n",
    "\n",
    "def print_number():\n",
    "    for i in range(1,10):\n",
    "        print(f\"Thread 1 : {i}\")\n",
    "        \n",
    "thread_1=threading.Thread(target=print_number)\n",
    "thread_1.start()\n",
    "\n",
    "for i in range(1,5):\n",
    "    print(f\"New_thread : {i}\")"
   ]
  },
  {
   "cell_type": "code",
   "execution_count": null,
   "id": "23281e49-f0ec-4525-947b-cf7a421f3424",
   "metadata": {},
   "outputs": [],
   "source": [
    "#2 why threading module used? write the use of the following functions\n",
    "#(activeCount)\n",
    "#(currentThread)\n",
    "#(enumerate)"
   ]
  },
  {
   "cell_type": "markdown",
   "id": "ee4be16c-755c-49ba-8dd2-6ff14d93f276",
   "metadata": {},
   "source": [
    "The threading module in Python is used to implement multitasking, allowing multiple threads of execution to run concurrently within a single process. It provides a way to achieve parallelism in Python by dividing the program into smaller threads, each of which can execute independently. Threads can perform tasks simultaneously, making it possible to handle multiple operations concurrently and improve overall program efficiency."
   ]
  },
  {
   "cell_type": "markdown",
   "id": "958412c1-5a05-4779-8891-79d6b22b4a0b",
   "metadata": {},
   "source": [
    "activeCount() =  This function is used to retrieve the current number of thread objects that are active and running. It returns the total count of all thread objects, including the main thread. The activeCount() function is helpful for monitoring the number of active threads in a program."
   ]
  },
  {
   "cell_type": "code",
   "execution_count": null,
   "id": "99406f6f-41d7-4587-ad72-b4d48c49b000",
   "metadata": {},
   "outputs": [],
   "source": [
    "import threading\n",
    "\n",
    "def my_function():\n",
    "    print(\"this is a thread\")\n",
    "    \n",
    "def main():\n",
    "    print(\"number of active thread : \", threading.activeCount())\n",
    "    \n",
    "    thread1=threading.Thread(target=my_function)\n",
    "    thread2=threading.Thread(target=my_function)\n",
    "    \n",
    "    thread1.start()\n",
    "    thread2.start()\n",
    "    \n",
    "    print(\"number of active thread : \", threading.activeCount())\n",
    "    \n",
    "if __name__==\"__main__\":\n",
    "    main()"
   ]
  },
  {
   "cell_type": "markdown",
   "id": "c6f4aab8-d745-462c-83c7-81d0cf7da0db",
   "metadata": {},
   "source": [
    "CurrentThread()= This function returns the current thread object, which represents the thread from which it is called. It provides information about the current thread, such as its name, identification number, and other attributes. currentThread() is useful for obtaining details about the thread currently executing the code."
   ]
  },
  {
   "cell_type": "code",
   "execution_count": null,
   "id": "a25ac63b-b833-493f-b83b-ae5bbdb19367",
   "metadata": {},
   "outputs": [],
   "source": [
    "import threading\n",
    "\n",
    "def my_function():\n",
    "    current_thread = threading.currentThread()\n",
    "    print(\"Thread name:\", current_thread.name)\n",
    "    print(\"Thread ID:\", current_thread.ident)\n",
    "\n",
    "def main():\n",
    "    thread1 = threading.Thread(target=my_function, name=\"Thread 1\")\n",
    "    thread2 = threading.Thread(target=my_function, name=\"Thread 2\")\n",
    "\n",
    "    thread1.start()\n",
    "    thread2.start()\n",
    "\n",
    "if __name__ == \"__main__\":\n",
    "    main()\n"
   ]
  },
  {
   "cell_type": "markdown",
   "id": "31d77e67-8ef0-4c63-861f-6775e885f99e",
   "metadata": {},
   "source": [
    "enumerate() =  The enumerate() function returns a list of all Thread objects currently active in the program. It provides an iterable containing all active threads, allowing you to access and manipulate them. This function is helpful when you want to iterate over all threads and perform operations on them."
   ]
  },
  {
   "cell_type": "code",
   "execution_count": null,
   "id": "71a6e379-0aa8-4f15-85f2-b767453c2ef3",
   "metadata": {},
   "outputs": [],
   "source": [
    "import threading\n",
    "import time\n",
    "\n",
    "def worker():\n",
    "    print(\"worker thread executing\")\n",
    "    time.sleep(2)\n",
    "    print(\"worker thread exiting\")\n",
    "    \n",
    "def main():\n",
    "    threads=threading.enumerate()\n",
    "    print(\"number of active thread : \", len(threads))\n",
    "    \n",
    "    for i in range(3):\n",
    "        thread=threading.Thread(target=worker)\n",
    "        thread.start()\n",
    "        \n",
    "    for thread in threading.enumerate():\n",
    "        if thread != threading.currentThread():\n",
    "            thread.join()\n",
    "\n",
    "    print(\"All threads have exited.\")\n",
    "\n",
    "if __name__ == \"__main__\":\n",
    "    main()\n",
    "    \n"
   ]
  },
  {
   "cell_type": "code",
   "execution_count": null,
   "id": "23191e23-0dbf-4016-b1de-7f47ffde0756",
   "metadata": {},
   "outputs": [],
   "source": [
    "#3 Explain the following functions\u001d",
    "\n",
    "#(run)\n",
    "#(start)\n",
    "#(join)\n",
    "#(isAlive)"
   ]
  },
  {
   "cell_type": "markdown",
   "id": "40e7e25a-b842-403a-abc6-ebdb2cf5f3ef",
   "metadata": {},
   "source": [
    "run(): The run() function is used to start the execution of a separate thread of control in Python. It is typically used when working with multi-threading, where you want to perform multiple tasks concurrently. When you call the run() function on a thread object, it will execute the code defined in the run() method of that object. This allows you to run multiple threads simultaneously and achieve parallelism in your program.\n",
    "\n",
    "start(): The start() function is used to begin the execution of a thread in Python. When you call start() on a thread object, it initiates the thread's execution by calling its run() method. This function essentially tells the thread to start running and allows it to begin executing the code in its run() method.\n",
    "\n",
    "join(): The join() function is used to synchronize the execution of multiple threads in Python. When you call join() on a thread object, it blocks the calling thread until the thread being joined completes its execution. This means that the program will wait at that point until the joined thread finishes. It is often used when you want to wait for a specific thread to complete before proceeding further in the main program.\n",
    "\n",
    "isAlive(): The isAlive() function is used to check whether a thread is currently active or not in Python. When you call isAlive() on a thread object, it returns True if the thread is still running or False if it has completed its execution. This function is useful when you want to determine the status of a thread and take appropriate actions based on its state."
   ]
  },
  {
   "cell_type": "code",
   "execution_count": 5,
   "id": "ca98e83f-6186-454a-a700-b25fc23d56c0",
   "metadata": {},
   "outputs": [
    {
     "name": "stdout",
     "output_type": "stream",
     "text": [
      "thread start\n"
     ]
    },
    {
     "ename": "AttributeError",
     "evalue": "'Thread' object has no attribute 'is_Alive'",
     "output_type": "error",
     "traceback": [
      "\u001b[0;31m---------------------------------------------------------------------------\u001b[0m",
      "\u001b[0;31mAttributeError\u001b[0m                            Traceback (most recent call last)",
      "Cell \u001b[0;32mIn[5], line 10\u001b[0m\n\u001b[1;32m      6\u001b[0m my_thread\u001b[38;5;241m=\u001b[39mthreading\u001b[38;5;241m.\u001b[39mThread(target\u001b[38;5;241m=\u001b[39mmy_function)\n\u001b[1;32m      8\u001b[0m my_thread\u001b[38;5;241m.\u001b[39mstart()\n\u001b[0;32m---> 10\u001b[0m \u001b[38;5;28;01mif\u001b[39;00m \u001b[43mmy_thread\u001b[49m\u001b[38;5;241;43m.\u001b[39;49m\u001b[43mis_Alive\u001b[49m():\n\u001b[1;32m     11\u001b[0m     \u001b[38;5;28mprint\u001b[39m(\u001b[38;5;124m\"\u001b[39m\u001b[38;5;124mthread is still working\u001b[39m\u001b[38;5;124m\"\u001b[39m)\n\u001b[1;32m     12\u001b[0m \u001b[38;5;28;01melse\u001b[39;00m:\n",
      "\u001b[0;31mAttributeError\u001b[0m: 'Thread' object has no attribute 'is_Alive'"
     ]
    }
   ],
   "source": [
    "import threading\n",
    "\n",
    "def my_function():\n",
    "    print(\"thread start\")\n",
    "    \n",
    "my_thread=threading.Thread(target=my_function)\n",
    "\n",
    "my_thread.start()\n",
    "\n",
    "if my_thread.is_Alive():\n",
    "    print(\"thread is still working\")\n",
    "else:\n",
    "    print(\"thread is not working\")\n",
    "    \n",
    "my_thread.join()\n",
    "print(\"main program continues..\")"
   ]
  },
  {
   "cell_type": "code",
   "execution_count": null,
   "id": "f63b0881-23dd-4182-8923-9e510914b7de",
   "metadata": {},
   "outputs": [],
   "source": [
    "#4 write a python program to create two threads. \n",
    "#Thread one must print the list of squares and thread two must print the list of cubes\u0019"
   ]
  },
  {
   "cell_type": "code",
   "execution_count": 2,
   "id": "60bd3122-5b1e-4238-a4d1-51c79da78755",
   "metadata": {},
   "outputs": [
    {
     "name": "stdout",
     "output_type": "stream",
     "text": [
      "1\n",
      "4\n",
      "9\n",
      "16\n",
      "25\n",
      "36\n",
      "49\n",
      "64\n",
      "81\n",
      "1\n",
      "8\n",
      "27\n",
      "64\n",
      "125\n",
      "216\n",
      "343\n",
      "512\n",
      "729\n"
     ]
    }
   ],
   "source": [
    "import threading\n",
    "\n",
    "def print_squre():\n",
    "    squres=[x**2 for x in range (1,10)]\n",
    "    for squre in squres:\n",
    "        print(squre)\n",
    "        \n",
    "def print_cube():\n",
    "    cubes=[x**3 for x in range (1,10)]\n",
    "    for cube in cubes:\n",
    "        print(cube)\n",
    "        \n",
    "if __name__ == \"__main__\":    \n",
    "        \n",
    "    thread1=threading.Thread(target=print_squre)\n",
    "    thread2=threading.Thread(target=print_cube)\n",
    "\n",
    "    thread1.start()\n",
    "    thread2.start()\n",
    "\n",
    "    thread1.join()\n",
    "    thread2.join()"
   ]
  },
  {
   "cell_type": "code",
   "execution_count": 7,
   "id": "58c28e05-74f6-4e6f-9d21-1d0335a06544",
   "metadata": {},
   "outputs": [],
   "source": [
    "#5 State advantages and disadvantages of multithreading\u0019"
   ]
  },
  {
   "cell_type": "markdown",
   "id": "0aa92ab2-4534-44b2-9189-53648b9c7bfb",
   "metadata": {},
   "source": [
    "Advantages of multithreading:\n",
    "\n",
    "\n",
    "1. Improved performance: Multithreading allows multiple threads to execute concurrently, which can lead to better CPU utilization and faster execution times.\n",
    "2. Responsiveness: Multithreading enables an application to remain responsive even when certain threads are blocked or performing lengthy operations.\n",
    "3. Resource sharing: Threads within the same process can share the same memory space, allowing efficient communication and data sharing between threads.\n",
    "4. Simplified programming: Multithreading can simplify the programming model for certain types of applications by dividing complex tasks into smaller, more manageable threads."
   ]
  },
  {
   "cell_type": "code",
   "execution_count": 8,
   "id": "d783fafb-debe-412a-9fec-1fc01d36d450",
   "metadata": {},
   "outputs": [
    {
     "name": "stdout",
     "output_type": "stream",
     "text": [
      "1\n",
      "2\n",
      "3\n",
      "4\n",
      "5\n",
      "A\n",
      "B\n",
      "C\n",
      "D\n",
      "E\n"
     ]
    }
   ],
   "source": [
    "import threading\n",
    "\n",
    "def print_number():\n",
    "    for i in range (1,6):\n",
    "        print(i)\n",
    "        \n",
    "def print_letter():\n",
    "    for letter in [\"A\",\"B\",\"C\",\"D\",\"E\"]:\n",
    "        print(letter)\n",
    "        \n",
    "thread1=threading.Thread(target=print_number)\n",
    "thread2=threading.Thread(target=print_letter)\n",
    "\n",
    "thread1.start()\n",
    "thread2.start()\n",
    "\n",
    "thread1.join()\n",
    "thread2.join()"
   ]
  },
  {
   "cell_type": "markdown",
   "id": "c3e94331-0f7a-4a65-95ea-1ddb22426b9e",
   "metadata": {},
   "source": [
    "Disadvantages of multithreading:\n",
    "\n",
    "\n",
    "1. Complexity: Multithreading introduces additional complexity, such as race conditions, deadlocks, and synchronization issues, which can be difficult to debug and resolve.\n",
    "2. Increased resource usage: Each thread requires its own stack and resources, which can consume more memory and CPU time compared to a single-threaded application.\n",
    "3. Reduced determinism: The execution order and timing of threads can be unpredictable, which can make the behavior of a multithreaded program harder to reason about and debug.\n",
    "4. Difficulty in parallelizing certain tasks: Not all tasks can be easily divided and parallelized into multiple threads, and some tasks may even become slower when executed in parallel due to overhead and contention."
   ]
  },
  {
   "cell_type": "code",
   "execution_count": 10,
   "id": "0dde6700-9212-4960-822c-42261acfd9f9",
   "metadata": {},
   "outputs": [],
   "source": [
    "#6 Explain deadlocks and race conditions. "
   ]
  },
  {
   "cell_type": "markdown",
   "id": "c3fd0fa4-f1ac-409a-ad5a-5b4bdd70de1b",
   "metadata": {},
   "source": [
    "Deadlocks and race conditions are two common problems in concurrent programming that can cause unexpected behavior and lead to program errors.\n",
    "\n",
    "A deadlock occurs when two or more processes or threads are unable to proceed because each is waiting for the other to release a resource. This situation can arise when a program involves multiple resources, and different processes acquire and hold some resources while waiting for others. As a result, none of the processes can continue execution, leading to a deadlock. Deadlocks can be caused by various factors, such as resource competition, synchronization issues, or programming errors.\n",
    "\n",
    "On the other hand, a race condition is a situation in which the behavior of a program depends on the relative timing or interleaving of multiple threads or processes. When multiple threads or processes access shared resources or variables concurrently, the outcome of their execution can become unpredictable. A race condition occurs when the final outcome of the program depends on the specific order in which these concurrent operations are executed. This can result in incorrect data, inconsistent state, or unexpected errors."
   ]
  },
  {
   "cell_type": "code",
   "execution_count": 12,
   "id": "6e2011ad-1472-4cf4-a541-6f3c99246272",
   "metadata": {},
   "outputs": [
    {
     "name": "stdout",
     "output_type": "stream",
     "text": [
      "2\n"
     ]
    }
   ],
   "source": [
    "# Example of a deadlock\n",
    "import threading\n",
    "\n",
    "# Create two resources\n",
    "resource1 = threading.Lock()\n",
    "resource2 = threading.Lock()\n",
    "\n",
    "# Define two threads that acquire resources in different order\n",
    "def thread1():\n",
    "    resource1.acquire()\n",
    "    resource2.acquire()\n",
    "    resource2.release()\n",
    "    resource1.release()\n",
    "\n",
    "def thread2():\n",
    "    resource2.acquire()\n",
    "    resource1.acquire()\n",
    "    resource1.release()\n",
    "    resource2.release()\n",
    "\n",
    "# Create and start the threads\n",
    "t1 = threading.Thread(target=thread1)\n",
    "t2 = threading.Thread(target=thread2)\n",
    "t1.start()\n",
    "t2.start()\n",
    "t1.join()\n",
    "t2.join()\n",
    "\n",
    "\n",
    "# Example of a race condition\n",
    "import time\n",
    "\n",
    "# Shared variable\n",
    "counter = 0\n",
    "\n",
    "# Define a function that increments the counter\n",
    "def increment():\n",
    "    global counter\n",
    "    temp = counter\n",
    "    time.sleep(0.001)  # Simulate some processing time\n",
    "    counter = temp + 1\n",
    "\n",
    "# Create and start multiple threads that increment the counter\n",
    "threads = []\n",
    "for _ in range(10):\n",
    "    t = threading.Thread(target=increment)\n",
    "    t.start()\n",
    "    threads.append(t)\n",
    "\n",
    "# Wait for all threads to complete\n",
    "for t in threads:\n",
    "    t.join()\n",
    "\n",
    "print(counter)\n"
   ]
  },
  {
   "cell_type": "code",
   "execution_count": null,
   "id": "75beaa13-ebee-40d7-89d1-83ccc804f89e",
   "metadata": {},
   "outputs": [],
   "source": []
  }
 ],
 "metadata": {
  "kernelspec": {
   "display_name": "Python 3 (ipykernel)",
   "language": "python",
   "name": "python3"
  },
  "language_info": {
   "codemirror_mode": {
    "name": "ipython",
    "version": 3
   },
   "file_extension": ".py",
   "mimetype": "text/x-python",
   "name": "python",
   "nbconvert_exporter": "python",
   "pygments_lexer": "ipython3",
   "version": "3.10.8"
  }
 },
 "nbformat": 4,
 "nbformat_minor": 5
}

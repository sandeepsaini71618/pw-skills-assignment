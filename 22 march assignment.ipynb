{
 "cells": [
  {
   "cell_type": "markdown",
   "id": "4cce5c79-812c-4ddd-b2dd-83ee4ab5faec",
   "metadata": {},
   "source": [
    "## Q1. Pearson correlation coefficient is a measure of the linear relationship between two variables. Suppose you have collected data on the amount of time students spend studying for an exam and their final exam scores. Calculate the Pearson correlation coefficient between these two variables and interpret the result."
   ]
  },
  {
   "cell_type": "code",
   "execution_count": 7,
   "id": "931c4a55-c9c2-4b81-872d-3132bfc7fa6e",
   "metadata": {},
   "outputs": [
    {
     "data": {
      "text/html": [
       "<div>\n",
       "<style scoped>\n",
       "    .dataframe tbody tr th:only-of-type {\n",
       "        vertical-align: middle;\n",
       "    }\n",
       "\n",
       "    .dataframe tbody tr th {\n",
       "        vertical-align: top;\n",
       "    }\n",
       "\n",
       "    .dataframe thead th {\n",
       "        text-align: right;\n",
       "    }\n",
       "</style>\n",
       "<table border=\"1\" class=\"dataframe\">\n",
       "  <thead>\n",
       "    <tr style=\"text-align: right;\">\n",
       "      <th></th>\n",
       "      <th>Study_time</th>\n",
       "      <th>Final_score</th>\n",
       "    </tr>\n",
       "  </thead>\n",
       "  <tbody>\n",
       "    <tr>\n",
       "      <th>Study_time</th>\n",
       "      <td>1.000000</td>\n",
       "      <td>0.994626</td>\n",
       "    </tr>\n",
       "    <tr>\n",
       "      <th>Final_score</th>\n",
       "      <td>0.994626</td>\n",
       "      <td>1.000000</td>\n",
       "    </tr>\n",
       "  </tbody>\n",
       "</table>\n",
       "</div>"
      ],
      "text/plain": [
       "             Study_time  Final_score\n",
       "Study_time     1.000000     0.994626\n",
       "Final_score    0.994626     1.000000"
      ]
     },
     "execution_count": 7,
     "metadata": {},
     "output_type": "execute_result"
    }
   ],
   "source": [
    "import pandas as pd\n",
    "data={\"Study_time\":[5,6,8,9,10],\"Final_score\":[50,60,80,85,100]}\n",
    "df=pd.DataFrame(data)\n",
    "#pearson correlation cofficient\n",
    "\n",
    "df.corr()"
   ]
  },
  {
   "cell_type": "markdown",
   "id": "524f1927-0c32-4730-be46-e792f6772348",
   "metadata": {},
   "source": [
    "The correlation coefficient between \"Study_time\" and \"Final_score\" is approximately 0.982, indicating a strong positive correlation between study time and final score."
   ]
  },
  {
   "cell_type": "markdown",
   "id": "60729625-9940-466f-ba8a-386ff61ca7a9",
   "metadata": {},
   "source": [
    "## Q2. Spearman's rank correlation is a measure of the monotonic relationship between two variables. Suppose you have collected data on the amount of sleep individuals get each night and their overall job satisfaction level on a scale of 1 to 10. Calculate the Spearman's rank correlation between these two variables and interpret the result."
   ]
  },
  {
   "cell_type": "code",
   "execution_count": 9,
   "id": "cd958c04-f7f4-49d5-b2bd-3d653f8f9730",
   "metadata": {},
   "outputs": [
    {
     "data": {
      "text/html": [
       "<div>\n",
       "<style scoped>\n",
       "    .dataframe tbody tr th:only-of-type {\n",
       "        vertical-align: middle;\n",
       "    }\n",
       "\n",
       "    .dataframe tbody tr th {\n",
       "        vertical-align: top;\n",
       "    }\n",
       "\n",
       "    .dataframe thead th {\n",
       "        text-align: right;\n",
       "    }\n",
       "</style>\n",
       "<table border=\"1\" class=\"dataframe\">\n",
       "  <thead>\n",
       "    <tr style=\"text-align: right;\">\n",
       "      <th></th>\n",
       "      <th>amount_of_sleep</th>\n",
       "      <th>job_satisfaction</th>\n",
       "    </tr>\n",
       "  </thead>\n",
       "  <tbody>\n",
       "    <tr>\n",
       "      <th>amount_of_sleep</th>\n",
       "      <td>1.000000</td>\n",
       "      <td>0.684211</td>\n",
       "    </tr>\n",
       "    <tr>\n",
       "      <th>job_satisfaction</th>\n",
       "      <td>0.684211</td>\n",
       "      <td>1.000000</td>\n",
       "    </tr>\n",
       "  </tbody>\n",
       "</table>\n",
       "</div>"
      ],
      "text/plain": [
       "                  amount_of_sleep  job_satisfaction\n",
       "amount_of_sleep          1.000000          0.684211\n",
       "job_satisfaction         0.684211          1.000000"
      ]
     },
     "execution_count": 9,
     "metadata": {},
     "output_type": "execute_result"
    }
   ],
   "source": [
    "import pandas as pd\n",
    "\n",
    "data={\"amount_of_sleep\":[6, 7, 5, 8, 6],\n",
    "      \"job_satisfaction\" : [8, 7, 6, 9, 8]}\n",
    "df=pd.DataFrame(data)\n",
    "\n",
    "## spearman rank correlation\n",
    "df.corr(method=\"spearman\")"
   ]
  },
  {
   "cell_type": "markdown",
   "id": "b79f216d-e534-447f-8cbd-4c0486fee1ac",
   "metadata": {},
   "source": [
    "This code calculates the Spearman rank correlation coefficient between \"amount_of_sleep\" and \"job_satisfaction\" using pandas. The interpretation is based on the sign of the correlation coefficient: positive indicates a positive monotonic relationship, negative indicates a negative monotonic relationship, and zero indicates no monotonic relationship."
   ]
  },
  {
   "cell_type": "markdown",
   "id": "b7ccb17f-81b6-4fee-b152-a68d72580149",
   "metadata": {},
   "source": [
    "## Q3. Suppose you are conducting a study to examine the relationship between the number of hours of exercise per week and body mass index (BMI) in a sample of adults. You collected data on both variables for 50 participants. Calculate the Pearson correlation coefficient and the Spearman's rank correlation between these two variables and compare the results."
   ]
  },
  {
   "cell_type": "code",
   "execution_count": 15,
   "id": "91cd2471-82c1-41ca-bacc-2d3e50289c0b",
   "metadata": {},
   "outputs": [
    {
     "name": "stdout",
     "output_type": "stream",
     "text": [
      "Pearson correlation coefficient:\n",
      "                         Exercise_Hours_Per_Week       BMI\n",
      "Exercise_Hours_Per_Week                 1.000000  0.142202\n",
      "BMI                                     0.142202  1.000000\n",
      "\n",
      "Spearman rank correlation:\n",
      "                         Exercise_Hours_Per_Week      BMI\n",
      "Exercise_Hours_Per_Week                  1.00000  0.15278\n",
      "BMI                                      0.15278  1.00000\n"
     ]
    },
    {
     "name": "stderr",
     "output_type": "stream",
     "text": [
      "/tmp/ipykernel_1033/886320608.py:21: FutureWarning: The default value of numeric_only in DataFrame.corr is deprecated. In a future version, it will default to False. Select only valid columns or specify the value of numeric_only to silence this warning.\n",
      "  pearson_corr = df.corr()\n",
      "/tmp/ipykernel_1033/886320608.py:24: FutureWarning: The default value of numeric_only in DataFrame.corr is deprecated. In a future version, it will default to False. Select only valid columns or specify the value of numeric_only to silence this warning.\n",
      "  spearman_corr = df.corr(method=\"spearman\")\n"
     ]
    }
   ],
   "source": [
    "import pandas as pd\n",
    "import random\n",
    "\n",
    "# Setting a random seed for reproducibility\n",
    "random.seed(42)\n",
    "\n",
    "# Generate data for 50 adults\n",
    "data = {\n",
    "    'Adult_ID': [f'Adult_{i + 1}' for i in range(50)],\n",
    "    'Exercise_Hours_Per_Week': [random.randint(1, 10) for _ in range(50)],\n",
    "    'BMI': [round(random.uniform(18.5, 30.0), 2) for _ in range(50)]\n",
    "}\n",
    "\n",
    "# Create a DataFrame\n",
    "df = pd.DataFrame(data)\n",
    "\n",
    "# Display the dataset\n",
    "#print(df)\n",
    "\n",
    "## Pearson correlation coefficient\n",
    "pearson_corr = df.corr()\n",
    "\n",
    "## Spearman rank correlation\n",
    "spearman_corr = df.corr(method=\"spearman\")\n",
    "\n",
    "# Display the results\n",
    "print(\"Pearson correlation coefficient:\")\n",
    "print(pearson_corr)\n",
    "\n",
    "print(\"\\nSpearman rank correlation:\")\n",
    "print(spearman_corr)"
   ]
  },
  {
   "cell_type": "markdown",
   "id": "ae720266-af08-4cbb-8080-239829467e61",
   "metadata": {},
   "source": [
    "The Pearson correlation coefficient measures linear relationships, and values close to 1 or -1 indicate a strong linear correlation.\n",
    "The Spearman rank correlation measures monotonic relationships, and values close to 1 or -1 indicate a strong monotonic correlation."
   ]
  },
  {
   "cell_type": "markdown",
   "id": "8bb4cae7-8547-4c26-a43c-c85123f11579",
   "metadata": {},
   "source": [
    "## Q4. A researcher is interested in examining the relationship between the number of hours individuals spend watching television per day and their level of physical activity. The researcher collected data on both variables from a sample of 50 participants. Calculate the Pearson correlation coefficient between these two variables."
   ]
  },
  {
   "cell_type": "code",
   "execution_count": 23,
   "id": "d5322075-75b9-4950-b2dd-0e0dda1331c9",
   "metadata": {},
   "outputs": [
    {
     "name": "stdout",
     "output_type": "stream",
     "text": [
      "Pearson correlation coefficient\n"
     ]
    },
    {
     "name": "stderr",
     "output_type": "stream",
     "text": [
      "/tmp/ipykernel_1033/423945856.py:17: FutureWarning: The default value of numeric_only in DataFrame.corr is deprecated. In a future version, it will default to False. Select only valid columns or specify the value of numeric_only to silence this warning.\n",
      "  df.corr()\n"
     ]
    },
    {
     "data": {
      "text/html": [
       "<div>\n",
       "<style scoped>\n",
       "    .dataframe tbody tr th:only-of-type {\n",
       "        vertical-align: middle;\n",
       "    }\n",
       "\n",
       "    .dataframe tbody tr th {\n",
       "        vertical-align: top;\n",
       "    }\n",
       "\n",
       "    .dataframe thead th {\n",
       "        text-align: right;\n",
       "    }\n",
       "</style>\n",
       "<table border=\"1\" class=\"dataframe\">\n",
       "  <thead>\n",
       "    <tr style=\"text-align: right;\">\n",
       "      <th></th>\n",
       "      <th>watching_television_per_day</th>\n",
       "      <th>level_of_physical_activity</th>\n",
       "    </tr>\n",
       "  </thead>\n",
       "  <tbody>\n",
       "    <tr>\n",
       "      <th>watching_television_per_day</th>\n",
       "      <td>1.000000</td>\n",
       "      <td>-0.028557</td>\n",
       "    </tr>\n",
       "    <tr>\n",
       "      <th>level_of_physical_activity</th>\n",
       "      <td>-0.028557</td>\n",
       "      <td>1.000000</td>\n",
       "    </tr>\n",
       "  </tbody>\n",
       "</table>\n",
       "</div>"
      ],
      "text/plain": [
       "                             watching_television_per_day  \\\n",
       "watching_television_per_day                     1.000000   \n",
       "level_of_physical_activity                     -0.028557   \n",
       "\n",
       "                             level_of_physical_activity  \n",
       "watching_television_per_day                   -0.028557  \n",
       "level_of_physical_activity                     1.000000  "
      ]
     },
     "execution_count": 23,
     "metadata": {},
     "output_type": "execute_result"
    }
   ],
   "source": [
    "import pandas as pd\n",
    "import random\n",
    "\n",
    "\n",
    "# Generate data for 50 adults\n",
    "data = {\n",
    "    'Adult_ID': [f'Adult_{i + 1}' for i in range(50)],\n",
    "    'watching_television_per_day': [random.randint(1, 10) for _ in range(50)],\n",
    "    'level_of_physical_activity': [round(random.uniform(2,5)) for _ in range(50)]\n",
    "}\n",
    "\n",
    "df=pd.DataFrame(data)\n",
    "df\n",
    "\n",
    "## Pearson correlation coefficient\n",
    "print(\"Pearson correlation coefficient\")\n",
    "df.corr()"
   ]
  },
  {
   "cell_type": "markdown",
   "id": "95398fe6-e7ae-4497-afca-31f565a2168c",
   "metadata": {},
   "source": [
    "## Q5. A survey was conducted to examine the relationship between age and preference for a particular brand of soft drink. The survey results are shown below:"
   ]
  },
  {
   "cell_type": "code",
   "execution_count": 30,
   "id": "2f95be5c-df0e-4808-90da-9ce44ac31817",
   "metadata": {},
   "outputs": [
    {
     "data": {
      "text/html": [
       "<div>\n",
       "<style scoped>\n",
       "    .dataframe tbody tr th:only-of-type {\n",
       "        vertical-align: middle;\n",
       "    }\n",
       "\n",
       "    .dataframe tbody tr th {\n",
       "        vertical-align: top;\n",
       "    }\n",
       "\n",
       "    .dataframe thead th {\n",
       "        text-align: right;\n",
       "    }\n",
       "</style>\n",
       "<table border=\"1\" class=\"dataframe\">\n",
       "  <thead>\n",
       "    <tr style=\"text-align: right;\">\n",
       "      <th></th>\n",
       "      <th>Age</th>\n",
       "      <th>Soft_drink_preference</th>\n",
       "    </tr>\n",
       "  </thead>\n",
       "  <tbody>\n",
       "    <tr>\n",
       "      <th>0</th>\n",
       "      <td>25</td>\n",
       "      <td>coke</td>\n",
       "    </tr>\n",
       "    <tr>\n",
       "      <th>1</th>\n",
       "      <td>42</td>\n",
       "      <td>pepsi</td>\n",
       "    </tr>\n",
       "    <tr>\n",
       "      <th>2</th>\n",
       "      <td>37</td>\n",
       "      <td>mountain dew</td>\n",
       "    </tr>\n",
       "    <tr>\n",
       "      <th>3</th>\n",
       "      <td>19</td>\n",
       "      <td>coke</td>\n",
       "    </tr>\n",
       "    <tr>\n",
       "      <th>4</th>\n",
       "      <td>31</td>\n",
       "      <td>pepsi</td>\n",
       "    </tr>\n",
       "    <tr>\n",
       "      <th>5</th>\n",
       "      <td>28</td>\n",
       "      <td>coke</td>\n",
       "    </tr>\n",
       "  </tbody>\n",
       "</table>\n",
       "</div>"
      ],
      "text/plain": [
       "   Age Soft_drink_preference\n",
       "0   25                  coke\n",
       "1   42                 pepsi\n",
       "2   37          mountain dew\n",
       "3   19                  coke\n",
       "4   31                 pepsi\n",
       "5   28                  coke"
      ]
     },
     "execution_count": 30,
     "metadata": {},
     "output_type": "execute_result"
    }
   ],
   "source": [
    "data={\"Age\":[25,42,37,19,31,28],\n",
    "     \"Soft_drink_preference\":[\"coke\",\"pepsi\",\"mountain dew\",\"coke\",\"pepsi\",\"coke\"]}\n",
    "\n",
    "df= pd.DataFrame(data)\n",
    "df"
   ]
  },
  {
   "cell_type": "markdown",
   "id": "10255278-aa3d-4db9-99e2-535ec6e7141d",
   "metadata": {},
   "source": [
    "## Q6. A company is interested in examining the relationship between the number of sales calls made per day and the number of sales made per week. The company collected data on both variables from a sample of 30 sales representatives. Calculate the Pearson correlation coefficient between these two variables."
   ]
  },
  {
   "cell_type": "code",
   "execution_count": 31,
   "id": "b29ee84c-681c-4ce8-9793-4d4e47b95884",
   "metadata": {},
   "outputs": [
    {
     "name": "stdout",
     "output_type": "stream",
     "text": [
      "Pearson correlation coefficient\n"
     ]
    },
    {
     "name": "stderr",
     "output_type": "stream",
     "text": [
      "/tmp/ipykernel_1033/4143105998.py:17: FutureWarning: The default value of numeric_only in DataFrame.corr is deprecated. In a future version, it will default to False. Select only valid columns or specify the value of numeric_only to silence this warning.\n",
      "  df.corr()\n"
     ]
    },
    {
     "data": {
      "text/html": [
       "<div>\n",
       "<style scoped>\n",
       "    .dataframe tbody tr th:only-of-type {\n",
       "        vertical-align: middle;\n",
       "    }\n",
       "\n",
       "    .dataframe tbody tr th {\n",
       "        vertical-align: top;\n",
       "    }\n",
       "\n",
       "    .dataframe thead th {\n",
       "        text-align: right;\n",
       "    }\n",
       "</style>\n",
       "<table border=\"1\" class=\"dataframe\">\n",
       "  <thead>\n",
       "    <tr style=\"text-align: right;\">\n",
       "      <th></th>\n",
       "      <th>sales calls made per day</th>\n",
       "      <th>sales made per week</th>\n",
       "    </tr>\n",
       "  </thead>\n",
       "  <tbody>\n",
       "    <tr>\n",
       "      <th>sales calls made per day</th>\n",
       "      <td>1.000000</td>\n",
       "      <td>-0.032964</td>\n",
       "    </tr>\n",
       "    <tr>\n",
       "      <th>sales made per week</th>\n",
       "      <td>-0.032964</td>\n",
       "      <td>1.000000</td>\n",
       "    </tr>\n",
       "  </tbody>\n",
       "</table>\n",
       "</div>"
      ],
      "text/plain": [
       "                          sales calls made per day  sales made per week\n",
       "sales calls made per day                  1.000000            -0.032964\n",
       "sales made per week                      -0.032964             1.000000"
      ]
     },
     "execution_count": 31,
     "metadata": {},
     "output_type": "execute_result"
    }
   ],
   "source": [
    "import pandas as pd\n",
    "import random\n",
    "\n",
    "\n",
    "# Generate data for 50 adults\n",
    "data = {\n",
    "    'Adult_ID': [f'Adult_{i + 1}' for i in range(30)],\n",
    "    'sales calls made per day': [random.randint(10, 25) for _ in range(30)],\n",
    "    'sales made per week': [round(random.uniform(40,50)) for _ in range(30)]\n",
    "}\n",
    "\n",
    "df=pd.DataFrame(data)\n",
    "df\n",
    "\n",
    "## Pearson correlation coefficient\n",
    "print(\"Pearson correlation coefficient\")\n",
    "df.corr()"
   ]
  },
  {
   "cell_type": "code",
   "execution_count": null,
   "id": "87a9b20c-5c84-456c-bc99-57d67a73add4",
   "metadata": {},
   "outputs": [],
   "source": []
  }
 ],
 "metadata": {
  "kernelspec": {
   "display_name": "Python 3 (ipykernel)",
   "language": "python",
   "name": "python3"
  },
  "language_info": {
   "codemirror_mode": {
    "name": "ipython",
    "version": 3
   },
   "file_extension": ".py",
   "mimetype": "text/x-python",
   "name": "python",
   "nbconvert_exporter": "python",
   "pygments_lexer": "ipython3",
   "version": "3.10.8"
  }
 },
 "nbformat": 4,
 "nbformat_minor": 5
}

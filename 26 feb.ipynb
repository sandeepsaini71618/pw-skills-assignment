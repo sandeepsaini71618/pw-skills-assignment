{
 "cells": [
  {
   "cell_type": "code",
   "execution_count": 2,
   "id": "90b8a6b0-c4c5-4742-917e-b27db1000ddd",
   "metadata": {},
   "outputs": [],
   "source": [
    "import numpy as np\n",
    "list_ = [ \"1\",\"2\",\"3\",\"4\",\"5\" ]\n",
    "array_list = np.array(object = list_)"
   ]
  },
  {
   "cell_type": "code",
   "execution_count": 3,
   "id": "c9b08a54-3031-4eff-8400-0ce53d5cd041",
   "metadata": {},
   "outputs": [],
   "source": [
    "#Q1. Is there any difference in the data type of variables list_ and array_list? If there is then write a code\n",
    "#to print the data types of both the variables."
   ]
  },
  {
   "cell_type": "code",
   "execution_count": 8,
   "id": "5f835805-1c30-451e-85db-2de434f111b3",
   "metadata": {},
   "outputs": [
    {
     "name": "stdout",
     "output_type": "stream",
     "text": [
      "type of list_ <class 'type'>\n"
     ]
    }
   ],
   "source": [
    "print(\"type of list_\" ,type(list))"
   ]
  },
  {
   "cell_type": "code",
   "execution_count": 9,
   "id": "bfb8201b-b9bf-4da3-9eb4-22ef2062b11f",
   "metadata": {},
   "outputs": [
    {
     "name": "stdout",
     "output_type": "stream",
     "text": [
      "type of array list <class 'numpy.ndarray'>\n"
     ]
    }
   ],
   "source": [
    "print(\"type of array list\",type(array_list))"
   ]
  },
  {
   "cell_type": "code",
   "execution_count": 10,
   "id": "04d87515-318a-45ca-a5d6-7c45082e3398",
   "metadata": {},
   "outputs": [],
   "source": [
    "#Q2. Write a code to print the data type of each and every element of both the variables list_ and arra_list.|"
   ]
  },
  {
   "cell_type": "code",
   "execution_count": 11,
   "id": "e6e93619-81ad-4d4b-8b53-461870ebecb4",
   "metadata": {},
   "outputs": [
    {
     "name": "stdout",
     "output_type": "stream",
     "text": [
      "Data type in list :\n",
      "Element : 1, Data Type : <class 'str'>\n",
      "Element : 2, Data Type : <class 'str'>\n",
      "Element : 3, Data Type : <class 'str'>\n",
      "Element : 4, Data Type : <class 'str'>\n",
      "Element : 5, Data Type : <class 'str'>\n",
      "\n",
      "Data type in array list: \n",
      "Element : 1 , Data Type : <class 'numpy.str_'>\n",
      "Element : 2 , Data Type : <class 'numpy.str_'>\n",
      "Element : 3 , Data Type : <class 'numpy.str_'>\n",
      "Element : 4 , Data Type : <class 'numpy.str_'>\n",
      "Element : 5 , Data Type : <class 'numpy.str_'>\n"
     ]
    }
   ],
   "source": [
    "print(\"Data type in list :\")\n",
    "for item in list_:\n",
    "    print(f\"Element : {item}, Data Type : {type(item)}\")\n",
    "    \n",
    "print(\"\\nData type in array list: \")\n",
    "for item in array_list:\n",
    "    print(f\"Element : {item} , Data Type : {type(item)}\")"
   ]
  },
  {
   "cell_type": "code",
   "execution_count": 12,
   "id": "092be5e3-6182-4446-8264-62f7fe7d79ba",
   "metadata": {},
   "outputs": [],
   "source": [
    "#Q3. Considering the following changes in the variable, array_list:\n",
    "#array_list = np.array(object = list_, dtype = int)\n",
    "# there be any difference in the data type of the elements present in both the variables, list_ and arra_list?\n",
    "#If so then print the data types of each and every element present in both the variables, list_ and arra_list."
   ]
  },
  {
   "cell_type": "code",
   "execution_count": 13,
   "id": "ac9feefb-3469-4565-9ee2-bbb1f15b52b0",
   "metadata": {},
   "outputs": [
    {
     "name": "stdout",
     "output_type": "stream",
     "text": [
      "Data type in list :\n",
      "Element : 1, Data Type : <class 'str'>\n",
      "Element : 2, Data Type : <class 'str'>\n",
      "Element : 3, Data Type : <class 'str'>\n",
      "Element : 4, Data Type : <class 'str'>\n",
      "Element : 5, Data Type : <class 'str'>\n",
      "\n",
      "Data type in array list: \n",
      "Element : 1 , Data Type : <class 'numpy.int64'>\n",
      "Element : 2 , Data Type : <class 'numpy.int64'>\n",
      "Element : 3 , Data Type : <class 'numpy.int64'>\n",
      "Element : 4 , Data Type : <class 'numpy.int64'>\n",
      "Element : 5 , Data Type : <class 'numpy.int64'>\n"
     ]
    }
   ],
   "source": [
    "array_list = np.array(object = list_, dtype = int)\n",
    "\n",
    "print(\"Data type in list :\")\n",
    "for item in list_:\n",
    "    print(f\"Element : {item}, Data Type : {type(item)}\")\n",
    "    \n",
    "print(\"\\nData type in array list: \")\n",
    "for item in array_list:\n",
    "    print(f\"Element : {item} , Data Type : {type(item)}\")"
   ]
  },
  {
   "cell_type": "markdown",
   "id": "3d94b1c3-9869-478b-9bb0-8a3436c1fc1e",
   "metadata": {},
   "source": [
    "We're asking NumPy to convert the string elements in list_ into integer values and create the NumPy array. If the conversion is possible, the resulting array will have the dtype int. If the conversion is not possible (for example, if the strings contain non-numeric characters), an error will occur.`"
   ]
  },
  {
   "cell_type": "code",
   "execution_count": 14,
   "id": "050680a7-481b-49fa-8e74-7aa044cd9717",
   "metadata": {},
   "outputs": [
    {
     "data": {
      "text/plain": [
       "array([[1, 2, 3],\n",
       "       [4, 5, 6]])"
      ]
     },
     "execution_count": 14,
     "metadata": {},
     "output_type": "execute_result"
    }
   ],
   "source": [
    "import numpy as np\n",
    "num_list = [ [ 1 , 2 , 3 ] , [ 4 , 5 , 6 ] ]\n",
    "num_array = np.array(object = num_list)\n",
    "num_array"
   ]
  },
  {
   "cell_type": "code",
   "execution_count": 15,
   "id": "42eef08e-ec6c-448b-874a-6ce580226c70",
   "metadata": {},
   "outputs": [],
   "source": [
    "#Q4. Write a code to find the following characteristics of variable, num_array:\n",
    "#(i) shape\n",
    "#(ii) size"
   ]
  },
  {
   "cell_type": "code",
   "execution_count": 17,
   "id": "452b7fc3-0b6d-4e10-9859-fcf824e4e2c9",
   "metadata": {},
   "outputs": [
    {
     "name": "stdout",
     "output_type": "stream",
     "text": [
      "The shape of array is :  (2, 3)\n"
     ]
    }
   ],
   "source": [
    "print(\"The shape of array is : \", num_array.shape)"
   ]
  },
  {
   "cell_type": "code",
   "execution_count": 18,
   "id": "f3a68b71-3060-4ffa-95a5-c152f57ddce8",
   "metadata": {},
   "outputs": [
    {
     "name": "stdout",
     "output_type": "stream",
     "text": [
      "The size of array is :  6\n"
     ]
    }
   ],
   "source": [
    "print(\"The size of array is : \", num_array.size)"
   ]
  },
  {
   "cell_type": "code",
   "execution_count": 19,
   "id": "0688c9fe-08b4-47b0-bd8d-a8cd783d6531",
   "metadata": {},
   "outputs": [],
   "source": [
    "#Q5. Write a code to create numpy array of 3*3 matrix containing zeros only, using a numpy array creation function.\n",
    "#[Hint: The size of the array will be 9 and the shape will be (3,3).]"
   ]
  },
  {
   "cell_type": "code",
   "execution_count": 21,
   "id": "f65a74a3-fae1-405e-9621-0d1cfbd4c515",
   "metadata": {},
   "outputs": [],
   "source": [
    "import numpy as np\n",
    "arr=np.zeros([3,3])"
   ]
  },
  {
   "cell_type": "code",
   "execution_count": 22,
   "id": "30571d23-b336-46d2-9889-b0fd7dcd7406",
   "metadata": {},
   "outputs": [
    {
     "data": {
      "text/plain": [
       "array([[0., 0., 0.],\n",
       "       [0., 0., 0.],\n",
       "       [0., 0., 0.]])"
      ]
     },
     "execution_count": 22,
     "metadata": {},
     "output_type": "execute_result"
    }
   ],
   "source": [
    "arr"
   ]
  },
  {
   "cell_type": "code",
   "execution_count": 23,
   "id": "094deff6-4bfa-4936-b359-4c3166257df3",
   "metadata": {},
   "outputs": [
    {
     "data": {
      "text/plain": [
       "9"
      ]
     },
     "execution_count": 23,
     "metadata": {},
     "output_type": "execute_result"
    }
   ],
   "source": [
    "arr.size"
   ]
  },
  {
   "cell_type": "code",
   "execution_count": 24,
   "id": "678fa79c-d38d-4879-8b52-4b2522495ac5",
   "metadata": {},
   "outputs": [
    {
     "data": {
      "text/plain": [
       "(3, 3)"
      ]
     },
     "execution_count": 24,
     "metadata": {},
     "output_type": "execute_result"
    }
   ],
   "source": [
    "arr.shape"
   ]
  },
  {
   "cell_type": "code",
   "execution_count": 25,
   "id": "688e996f-36b6-42c4-8a1c-10358daa9559",
   "metadata": {},
   "outputs": [],
   "source": [
    "#Q6. Create an identity matrix of shape (5,5) using numpy functions?\n",
    "#[Hint: An identity matrix is a matrix containing 1 diagonally and other elements will be 0.]"
   ]
  },
  {
   "cell_type": "code",
   "execution_count": 26,
   "id": "ed164611-d2c4-4853-8b9d-827244c7be2b",
   "metadata": {},
   "outputs": [],
   "source": [
    "import numpy as np\n",
    "arr=np.eye(5)"
   ]
  },
  {
   "cell_type": "code",
   "execution_count": 27,
   "id": "557bfef4-c16a-455e-8457-8cd68ee64956",
   "metadata": {},
   "outputs": [
    {
     "data": {
      "text/plain": [
       "array([[1., 0., 0., 0., 0.],\n",
       "       [0., 1., 0., 0., 0.],\n",
       "       [0., 0., 1., 0., 0.],\n",
       "       [0., 0., 0., 1., 0.],\n",
       "       [0., 0., 0., 0., 1.]])"
      ]
     },
     "execution_count": 27,
     "metadata": {},
     "output_type": "execute_result"
    }
   ],
   "source": [
    "arr"
   ]
  },
  {
   "cell_type": "code",
   "execution_count": null,
   "id": "857a6681-7394-45f0-a38f-e116b453d8c4",
   "metadata": {},
   "outputs": [],
   "source": []
  }
 ],
 "metadata": {
  "kernelspec": {
   "display_name": "Python 3 (ipykernel)",
   "language": "python",
   "name": "python3"
  },
  "language_info": {
   "codemirror_mode": {
    "name": "ipython",
    "version": 3
   },
   "file_extension": ".py",
   "mimetype": "text/x-python",
   "name": "python",
   "nbconvert_exporter": "python",
   "pygments_lexer": "ipython3",
   "version": "3.10.8"
  }
 },
 "nbformat": 4,
 "nbformat_minor": 5
}

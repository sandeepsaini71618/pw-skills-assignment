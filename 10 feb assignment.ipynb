{
 "cells": [
  {
   "cell_type": "code",
   "execution_count": 1,
   "id": "8ee96310-c55d-453e-8bfa-acadf5632823",
   "metadata": {},
   "outputs": [],
   "source": [
    "#Which function is used to open a file? What are the different modes of opening a file? Explain each mode of file opening."
   ]
  },
  {
   "cell_type": "markdown",
   "id": "d034719a-3566-4d2a-b66a-e735c1cb85cb",
   "metadata": {},
   "source": [
    "In Python, the open() function is used to open a file. It is used to establish a connection between the Python program and the file on disk, allowing you to read from or write to the file.\n",
    "\n",
    "The open() function takes two arguments: the file name (or path) and the mode in which you want to open the file. The mode specifies the purpose for which the file is being opened, whether it's for reading, writing, or both.\n",
    "\n",
    "There are several different modes that can be used to open a file:\n",
    "\n",
    "'r' (Read Mode): This is the default mode when you don't specify any mode. It is used to open a file for reading. In this mode, the file is positioned at the beginning, and you can only read the contents of the file. If the file does not exist, it will raise a FileNotFoundError exception.\n",
    "\n",
    "'w' (Write Mode): This mode is used to open a file for writing. It creates a new file if it doesn't exist or truncates the file if it does. In other words, it clears the existing content of the file. If the file exists, it will be overwritten. If the file doesn't exist, a new file will be created.\n",
    "\n",
    "'a' (Append Mode): This mode is used to open a file for appending data. It creates a new file if it doesn't exist. If the file exists, the new data will be added to the end of the file. The file pointer is positioned at the end of the file in this mode.\n",
    "\n",
    "'x' (Exclusive Creation Mode): This mode is used to open a file exclusively for writing. It creates a new file but raises a FileExistsError if the file already exists.\n",
    "\n",
    "'t' (Text Mode): This is the default mode when opening a file in text format. It is used to read or write textual data. In this mode, the contents of the file are treated as Unicode strings.\n",
    "\n",
    "'b' (Binary Mode): This mode is used to open a file in binary format. It is used for reading or writing non-text data, such as images or audio files.\n",
    "\n",
    "Combining these modes, you can specify multiple modes by passing them as a string. For example, 'rb' opens the file in binary mode for reading, while 'w+' opens the file for both reading and writing.\n",
    "\n",
    "It's important to remember to close the file using the close() method after you're done working with it to free up system resources. Alternatively, you can use the with statement, which automatically takes care of closing the file for you."
   ]
  },
  {
   "cell_type": "code",
   "execution_count": 2,
   "id": "d3906496-242a-4f28-b3eb-d4414b12e327",
   "metadata": {},
   "outputs": [],
   "source": [
    "#Why close() function is used? Why is it important to close a file?"
   ]
  },
  {
   "cell_type": "markdown",
   "id": "cd957e80-cb57-4c18-bb93-4d8bebe0e957",
   "metadata": {},
   "source": [
    "The close() function in Python is used to close a file that has been opened for reading or writing. It is important to close a file after you are done using it because it ensures that any resources associated with the file are properly released and made available for other processes or operations.\n",
    "\n",
    "When a file is opened, the operating system assigns certain resources, such as memory and file handles, to manage the file. If you don't close the file explicitly using the close() function, these resources may not be released immediately, leading to potential issues.\n",
    "\n",
    "Closing a file has several benefits:\n",
    "\n",
    "It frees up system resources: When you close a file, the operating system can release any system resources that were allocated to manage the file. This helps in efficient memory management and ensures that your program doesn't consume unnecessary resources.\n",
    "\n",
    "Data integrity: Closing a file ensures that all the data you have written to the file is flushed from the buffer and actually written to the disk. If you don't close the file and terminate your program abruptly, the data may not be fully written, resulting in data loss or corrupted files.\n",
    "\n",
    "Other processes can access the file: By closing the file, you allow other processes or programs to access and use the file. If a file is kept open by your program, it may prevent other programs from accessing or modifying the file until it is closed."
   ]
  },
  {
   "cell_type": "code",
   "execution_count": 1,
   "id": "fd2333dc-8824-4867-9912-2288a94661ec",
   "metadata": {},
   "outputs": [],
   "source": [
    "#Write a python program to create a text file. Write ‘I want to become a Data Scientist’ in that file. Then close the file. Open this file and read the content of the file.  "
   ]
  },
  {
   "cell_type": "code",
   "execution_count": 5,
   "id": "02378a9a-9a72-41ea-81a1-2a03acd6b28a",
   "metadata": {},
   "outputs": [],
   "source": [
    "file_path=\"data.txt\"\n",
    "file=open(\"file_path\",\"w\")\n",
    "file.write(\"‘I want to become a Data Scientist\")\n",
    "file.close()"
   ]
  },
  {
   "cell_type": "code",
   "execution_count": 3,
   "id": "43b17e6e-a2e3-4d4b-8592-605b3e0afdee",
   "metadata": {},
   "outputs": [
    {
     "name": "stdout",
     "output_type": "stream",
     "text": [
      "‘I want to become a Data Scientist\n"
     ]
    }
   ],
   "source": [
    "file=open(\"file_path\",\"r\")\n",
    "content=file.read()\n",
    "print(content)"
   ]
  },
  {
   "cell_type": "code",
   "execution_count": 4,
   "id": "3515c7f7-a040-489e-b7b4-b87b22a573cd",
   "metadata": {},
   "outputs": [],
   "source": [
    "#Explain the following with python code: read(), readline() and readlines()."
   ]
  },
  {
   "cell_type": "markdown",
   "id": "cae11490-9edf-4452-9def-8a5e2d937f5d",
   "metadata": {},
   "source": [
    "read():\n",
    "The read() method is used to read the entire contents of a file as a single string. It reads from the current file position until the end of the file or until a specified number of bytes are read. Here's an example:"
   ]
  },
  {
   "cell_type": "code",
   "execution_count": 1,
   "id": "e1a375de-2036-4745-bed4-78f6e8d2d1df",
   "metadata": {},
   "outputs": [
    {
     "name": "stdout",
     "output_type": "stream",
     "text": [
      "my name is sandeep saini.\n"
     ]
    }
   ],
   "source": [
    "file_name=\"sandeep.txt\"\n",
    "file=open(\"sandeep.txt\",\"w\")\n",
    "file.write(\"my name is sandeep saini.\")\n",
    "file.close()\n",
    "file=open(\"sandeep.txt\",\"r\")\n",
    "content_read=file.read()\n",
    "print(content_read)"
   ]
  },
  {
   "cell_type": "markdown",
   "id": "d2d1ddb3-a583-4fe9-afb7-9568e450b18e",
   "metadata": {},
   "source": [
    "readline():\n",
    "The readline() method is used to read a single line from a file. It reads from the current file position until it encounters a newline character ('\\n') or reaches the end of the file. Here's an example:"
   ]
  },
  {
   "cell_type": "code",
   "execution_count": 3,
   "id": "24f8d350-d1ea-4a70-bbbf-efc6ca28eac1",
   "metadata": {},
   "outputs": [
    {
     "name": "stdout",
     "output_type": "stream",
     "text": [
      "my name is sandeep saini.\n",
      "\n"
     ]
    }
   ],
   "source": [
    "file=open(\"sandeep.txt\",\"r\")\n",
    "line1=file.readline()\n",
    "line2=file.readline()\n",
    "file.close()\n",
    "print(line1)\n",
    "print(line2)"
   ]
  },
  {
   "cell_type": "markdown",
   "id": "e9b7fba2-e1f1-45be-b7bc-7c8c23167204",
   "metadata": {},
   "source": [
    "readlines():\n",
    "The readlines() method is used to read all the lines from a file and returns them as a list of strings. Each line is a separate element in the list. Here's an example:"
   ]
  },
  {
   "cell_type": "code",
   "execution_count": 4,
   "id": "a0d84083-29c1-4c3c-9594-a72e8ce548d5",
   "metadata": {},
   "outputs": [
    {
     "name": "stdout",
     "output_type": "stream",
     "text": [
      "my name is sandeep saini.\n"
     ]
    }
   ],
   "source": [
    "file=open(\"sandeep.txt\",\"r\")\n",
    "lines=file.readlines()\n",
    "file.close()\n",
    "for line in lines:\n",
    "    print(line)\n"
   ]
  },
  {
   "cell_type": "code",
   "execution_count": 6,
   "id": "a83b260a-5106-408e-b166-a60e88ae7258",
   "metadata": {},
   "outputs": [],
   "source": [
    "#Explain why with statement is used with open(). What is the advantage of using with statement and open() together?"
   ]
  },
  {
   "cell_type": "markdown",
   "id": "381df45a-f4aa-480d-aeae-4ccd274de078",
   "metadata": {},
   "source": [
    "The with statement in Python is used in conjunction with the open() function to handle file operations, such as reading from or writing to files. It provides a convenient and efficient way to ensure that the file is properly opened and closed, regardless of whether an exception occurs during file processing.\n",
    "\n",
    "When you use the with statement with open(), Python automatically takes care of the file cleanup, even if an exception is raised within the block of code. This means that the file will be closed properly, ensuring that system resources are released and preventing potential issues like memory leaks.\n",
    "\n",
    "The advantage of using the with statement with open() is that it simplifies the code and makes it more readable. You don't need to explicitly call the close() method on the file object since the with statement handles that for you. This helps to avoid errors caused by forgetting to close the file, which can lead to unexpected behavior or resource exhaustion."
   ]
  },
  {
   "cell_type": "code",
   "execution_count": 10,
   "id": "88394a55-ccf5-46df-9869-5beb666bd387",
   "metadata": {},
   "outputs": [
    {
     "name": "stdout",
     "output_type": "stream",
     "text": [
      "my name is sandeep saini.\n"
     ]
    }
   ],
   "source": [
    "with open(\"sandeep.txt\",\"r\") as file:\n",
    "    data=file.read()\n",
    "    print(data)"
   ]
  },
  {
   "cell_type": "code",
   "execution_count": 11,
   "id": "630b013a-8769-4c1d-9395-839bc3519db4",
   "metadata": {},
   "outputs": [],
   "source": [
    "#Explain the write() and writelines() functions. Give a suitable example"
   ]
  },
  {
   "cell_type": "markdown",
   "id": "2aa4c2f8-d30a-4583-81ab-3e3ad3120549",
   "metadata": {},
   "source": [
    "The write() function is used to write a single string or a sequence of characters to a file. It takes a string as an argument and appends it to the end of the file. If the file doesn't exist, it creates a new file. If it already exists, the write() function will overwrite the existing contents of the file."
   ]
  },
  {
   "cell_type": "code",
   "execution_count": 13,
   "id": "148308b0-9b68-4af3-b581-f89d3d80c1eb",
   "metadata": {},
   "outputs": [],
   "source": [
    "file=open(\"data.txt\",\"w\")\n",
    "file.write(\"every thing has a data \\n\")\n",
    "file.close()"
   ]
  },
  {
   "cell_type": "markdown",
   "id": "44bf8aa8-9069-4e4f-8b79-a640611254b1",
   "metadata": {},
   "source": [
    "The writelines() function, on the other hand, is used to write a sequence of strings to a file. It takes an iterable (such as a list or a tuple) of strings as an argument and writes each string as a separate line in the file."
   ]
  },
  {
   "cell_type": "code",
   "execution_count": 14,
   "id": "96af2225-bc6a-422f-b372-1f8e86f5e48f",
   "metadata": {},
   "outputs": [],
   "source": [
    "file=open(\"data.txt\",\"w\")\n",
    "lines=[\"line1\\n\",\"line2\\n\",\"line3\\n\"]\n",
    "file.writelines(lines)\n",
    "file.close()"
   ]
  },
  {
   "cell_type": "code",
   "execution_count": null,
   "id": "955c1a5d-d940-4c46-96f0-2df1e1065d80",
   "metadata": {},
   "outputs": [],
   "source": []
  }
 ],
 "metadata": {
  "kernelspec": {
   "display_name": "Python 3 (ipykernel)",
   "language": "python",
   "name": "python3"
  },
  "language_info": {
   "codemirror_mode": {
    "name": "ipython",
    "version": 3
   },
   "file_extension": ".py",
   "mimetype": "text/x-python",
   "name": "python",
   "nbconvert_exporter": "python",
   "pygments_lexer": "ipython3",
   "version": "3.10.8"
  }
 },
 "nbformat": 4,
 "nbformat_minor": 5
}

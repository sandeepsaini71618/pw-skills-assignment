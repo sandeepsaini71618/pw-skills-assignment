{
 "cells": [
  {
   "cell_type": "markdown",
   "id": "a895459c-a6f9-49f6-bf0b-ae59d90af9e1",
   "metadata": {},
   "source": [
    "What is Abstraction in OOps? Explain with an example."
   ]
  },
  {
   "cell_type": "markdown",
   "id": "896ed83b-7e61-4cb7-9ae1-71abdb87388d",
   "metadata": {},
   "source": [
    "Abstraction is the process of hiding the internal details of an application from the outer world. Abstraction is used to describe things in simple terms. It’s used to create a boundary between the application and the client programs."
   ]
  },
  {
   "cell_type": "markdown",
   "id": "20aee21e-964a-46d9-9b21-488a9e682547",
   "metadata": {},
   "source": [
    "Let's consider an example to illustrate abstraction in Python:\n",
    "\n",
    "Suppose we want to model different types of vehicles in a transportation system, such as cars, motorcycles, and trucks. These vehicles may have similar attributes and behaviors, such as a name, a maximum speed, and the ability to start, stop, and accelerate.\n",
    "\n",
    "We can create an abstract class called \"Vehicle\" that defines the common attributes and behaviors shared by all vehicles. The abstract class can have abstract methods, which are methods without any implementation. These methods will be defined in the subclasses that inherit from the abstract class."
   ]
  },
  {
   "cell_type": "code",
   "execution_count": 17,
   "id": "70a21f20-0e0a-43eb-ae9c-4fb173e456ff",
   "metadata": {},
   "outputs": [],
   "source": [
    "from abc import ABC, abstractmethod\n",
    "\n",
    "class Vehicle(ABC):\n",
    "    def __init__(self, name, max_speed):\n",
    "        self.name = name\n",
    "        self.max_speed = max_speed\n",
    "    \n",
    "    @abstractmethod\n",
    "    def start(self):\n",
    "        pass\n",
    "    \n",
    "    @abstractmethod\n",
    "    def stop(self):\n",
    "        pass\n",
    "    \n",
    "    @abstractmethod\n",
    "    def accelerate(self):\n",
    "        pass\n",
    "\n",
    "class Car(Vehicle):\n",
    "    def start(self):\n",
    "        print(f\"The {self.name} car has started.\")\n",
    "    \n",
    "    def stop(self):\n",
    "        print(f\"The {self.name} car has stopped.\")\n",
    "    \n",
    "    def accelerate(self):\n",
    "        print(f\"The {self.name} car is accelerating.\")\n",
    "\n",
    "class Motorcycle(Vehicle):\n",
    "    def start(self):\n",
    "        print(f\"The {self.name} motorcycle has started.\")\n",
    "    \n",
    "    def stop(self):\n",
    "        print(f\"The {self.name} motorcycle has stopped.\")\n",
    "    \n",
    "    def accelerate(self):\n",
    "        print(f\"The {self.name} motorcycle is accelerating.\")\n",
    "\n",
    "class Truck(Vehicle):\n",
    "    def start(self):\n",
    "        print(f\"The {self.name} truck has started.\")\n",
    "    \n",
    "    def stop(self):\n",
    "        print(f\"The {self.name} truck has stopped.\")\n",
    "    \n",
    "    def accelerate(self):\n",
    "        print(f\"The {self.name} truck is accelerating.\")\n"
   ]
  },
  {
   "cell_type": "code",
   "execution_count": 18,
   "id": "e6e7d995-58bf-4609-ba46-6562c7a8789a",
   "metadata": {},
   "outputs": [
    {
     "name": "stdout",
     "output_type": "stream",
     "text": [
      "The Sedan car has started.\n",
      "The Sedan car is accelerating.\n",
      "The Sedan car has stopped.\n"
     ]
    }
   ],
   "source": [
    "car = Car(\"Sedan\", 200)\n",
    "car.start()      \n",
    "car.accelerate() \n",
    "car.stop()"
   ]
  },
  {
   "cell_type": "markdown",
   "id": "10d93b75-adf8-48c5-8d87-014995249a0c",
   "metadata": {},
   "source": [
    "Differentiate between Abstraction and Encapsulation. Explain with an example."
   ]
  },
  {
   "cell_type": "markdown",
   "id": "0b938a3b-51fc-4027-add9-b2f523724ad7",
   "metadata": {},
   "source": [
    "Abstraction:\n",
    "Abstraction is the process of representing complex real-world entities as simplified models in code. It focuses on the essential features of an object while hiding the unnecessary details. In Python, abstraction is achieved through the use of abstract classes and interfaces.\n",
    "An abstract class is a class that cannot be instantiated and is meant to be inherited by other classes. It defines a common interface and may contain some implementation details. However, it also declares one or more abstract methods that must be implemented by any class inheriting from it. Abstract methods are declared but do not contain any implementation code."
   ]
  },
  {
   "cell_type": "code",
   "execution_count": 19,
   "id": "aea40d04-b683-4c04-a7f9-56a22baba4b0",
   "metadata": {},
   "outputs": [
    {
     "name": "stdout",
     "output_type": "stream",
     "text": [
      "bark\n",
      "meow\n"
     ]
    }
   ],
   "source": [
    "from abc import ABC, abstractmethod\n",
    "\n",
    "class Animal(ABC):\n",
    "    @abstractmethod\n",
    "    def sound(self):\n",
    "        pass\n",
    "    \n",
    "class Dog(Animal):\n",
    "    def sound(self):\n",
    "        return \"bark\"\n",
    "    \n",
    "class Cat(Animal):\n",
    "    def sound(self):\n",
    "        return \"meow\"\n",
    "    \n",
    "dog=Dog()\n",
    "cat=Cat()\n",
    "\n",
    "print (dog.sound())\n",
    "print (cat.sound())"
   ]
  },
  {
   "cell_type": "markdown",
   "id": "35683940-4e48-471f-8cd0-07941082f8c7",
   "metadata": {},
   "source": [
    "Encapsulation:\n",
    "Encapsulation is the practice of hiding internal data and methods of an object and providing access to them only through a well-defined interface. It helps in organizing code and prevents direct access to sensitive data from outside the class. In Python, encapsulation is typically achieved by using access modifiers such as public, private, and protected."
   ]
  },
  {
   "cell_type": "code",
   "execution_count": 26,
   "id": "8958e522-bcbb-44d0-99b1-f57014c590bb",
   "metadata": {},
   "outputs": [],
   "source": [
    "class car:\n",
    "    \n",
    "    def __init__(self):\n",
    "        self.__speed=0\n",
    "        \n",
    "    def get_speed(self):\n",
    "        return self.__speed\n",
    "    \n",
    "    def set_speed(self,speed):\n",
    "        if speed <0:\n",
    "            print (\"invalid speed\")\n",
    "            \n",
    "        else:\n",
    "            self.__speed=speed\n",
    "        \n",
    "    "
   ]
  },
  {
   "cell_type": "code",
   "execution_count": 27,
   "id": "aaeb9174-ea1a-4e99-89aa-a26c522815f5",
   "metadata": {},
   "outputs": [
    {
     "name": "stdout",
     "output_type": "stream",
     "text": [
      "100\n"
     ]
    }
   ],
   "source": [
    "Car=car()\n",
    "Car.set_speed(100)\n",
    "print(Car.get_speed())"
   ]
  },
  {
   "cell_type": "code",
   "execution_count": 28,
   "id": "49c965a9-abca-4615-adc7-2ce0885527f3",
   "metadata": {},
   "outputs": [
    {
     "name": "stdout",
     "output_type": "stream",
     "text": [
      "100\n"
     ]
    }
   ],
   "source": [
    "Car.__speed=-50\n",
    "print(Car.get_speed())"
   ]
  },
  {
   "cell_type": "code",
   "execution_count": 29,
   "id": "47410ae0-3547-49f1-ab42-317a2e89b580",
   "metadata": {},
   "outputs": [
    {
     "name": "stdout",
     "output_type": "stream",
     "text": [
      "invalid speed\n",
      "100\n"
     ]
    }
   ],
   "source": [
    "Car.set_speed(-50)\n",
    "print(Car.get_speed())"
   ]
  },
  {
   "cell_type": "code",
   "execution_count": 32,
   "id": "b8763afe-717d-400a-b910-642c2a160a60",
   "metadata": {},
   "outputs": [],
   "source": [
    "#What is abc module in python? Why is it used?"
   ]
  },
  {
   "cell_type": "markdown",
   "id": "6714b01b-ab2e-4747-8ff8-16edf9dfaf5d",
   "metadata": {},
   "source": [
    "\n",
    "The \"abc\" module in Python stands for Abstract Base Classes. It is a built-in module that provides infrastructure for defining abstract base classes in Python. Abstract base classes are classes that cannot be instantiated directly but serve as a blueprint for other classes to inherit from.\n",
    "\n",
    "The main purpose of the \"abc\" module is to facilitate the creation of abstract base classes and enforce certain interfaces or behaviors that subclasses must implement. It allows you to define abstract methods, which are methods without any implementation, that must be overridden by the concrete subclasses.\n",
    "\n",
    "By using the \"abc\" module, you can create hierarchies of classes with common interfaces, providing a way to define a contract that derived classes should adhere to. This helps in designing and organizing code, promoting code reusability, and ensuring that subclasses implement the necessary functionality.\n",
    "\n",
    "The \"abc\" module also provides decorators and functions that allow you to register and check for abstract base classes and their subclasses, making it easier to manage and enforce the contract defined by the abstract base classes."
   ]
  },
  {
   "cell_type": "code",
   "execution_count": 31,
   "id": "8b5aa288-6c04-4e34-b41f-01d12009d761",
   "metadata": {},
   "outputs": [],
   "source": [
    "#How can we achieve data abstraction?"
   ]
  },
  {
   "cell_type": "markdown",
   "id": "1bcd6282-4247-42b4-a660-ba798b3c462f",
   "metadata": {},
   "source": [
    "Define a class: Start by defining a class that encapsulates the data and related behaviors. The class serves as a blueprint for creating objects with similar properties and functionalities.\n",
    "\n",
    "Identify attributes: Identify the attributes or properties that define the data associated with the class. These attributes represent the characteristics or variables associated with the objects created from the class.\n",
    "\n",
    "Encapsulate data: Encapsulate the attributes within the class by declaring them as instance variables. Instance variables hold the state of the objects created from the class.\n",
    "\n",
    "Define methods: Define methods within the class to perform various operations on the data. Methods are functions associated with the class that can access and manipulate the attributes.\n",
    "\n",
    "Implement abstraction: Implement abstraction by exposing only the essential features of the class to the outside world. This means that you should hide the internal implementation details of the class and provide only the necessary methods to interact with the data.\n",
    "\n",
    "Accessing data: Access the data stored in the objects by creating instances of the class. Instantiate the class to create objects and access their attributes and methods using the dot notation."
   ]
  },
  {
   "cell_type": "code",
   "execution_count": 33,
   "id": "9db0fdb1-58f5-4f32-9121-41ce81ea0033",
   "metadata": {},
   "outputs": [],
   "source": [
    "#Can we create an instance of an abstract class? Explain your answer."
   ]
  },
  {
   "cell_type": "markdown",
   "id": "8a02c765-8bad-4716-af86-915d06a9b0ce",
   "metadata": {},
   "source": [
    "An abstract class is a class that is meant to be inherited from, serving as a blueprint for other classes. It defines common attributes and methods that its subclasses should implement.\n",
    "\n",
    "To create an instance of a class, you typically use the class constructor by calling the class name followed by parentheses. However, when attempting to create an instance of an abstract class, you will encounter a TypeError.\n",
    "\n",
    "The reason for this is that abstract classes are incomplete by design. They contain one or more abstract methods, which are methods without any implementation in the abstract class itself. These methods must be implemented by the concrete subclasses.\n",
    "\n",
    "To make use of an abstract class, you need to create a concrete subclass that inherits from the abstract class and implements all its abstract methods. Only then can you create an instance of the concrete subclass and access its attributes and methods.\n",
    "\n",
    "Abstract classes in Python are typically defined using the abc module, specifically the ABC (Abstract Base Class) and abstractmethod decorators. This module provides the infrastructure for defining abstract classes and enforcing the implementation of abstract methods in subclasses."
   ]
  },
  {
   "cell_type": "code",
   "execution_count": null,
   "id": "3d97d99b-5a81-4986-b846-baf2bbae0393",
   "metadata": {},
   "outputs": [],
   "source": []
  }
 ],
 "metadata": {
  "kernelspec": {
   "display_name": "Python 3 (ipykernel)",
   "language": "python",
   "name": "python3"
  },
  "language_info": {
   "codemirror_mode": {
    "name": "ipython",
    "version": 3
   },
   "file_extension": ".py",
   "mimetype": "text/x-python",
   "name": "python",
   "nbconvert_exporter": "python",
   "pygments_lexer": "ipython3",
   "version": "3.10.8"
  }
 },
 "nbformat": 4,
 "nbformat_minor": 5
}

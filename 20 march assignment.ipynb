{
 "cells": [
  {
   "cell_type": "markdown",
   "id": "14143741-73af-44ca-8e68-ec6ba452fa3a",
   "metadata": {},
   "source": [
    "## Q1. What is data encoding? How is it useful in data science?"
   ]
  },
  {
   "cell_type": "markdown",
   "id": "2223fcc7-b9d5-4452-8be2-4464455a5a87",
   "metadata": {},
   "source": [
    "Data encoding refers to the process of converting data from one form to another, typically for the purpose of storage or transmission. In the context of data science and Python, encoding is crucial for handling various types of data, especially when working with different file formats, databases, or communication protocols. Two common aspects of data encoding in Python are character encoding and serialization.\n",
    "\n",
    "Character Encoding:\n",
    "Character encoding is the translation of characters into a numerical representation that computers can understand. In Python, the str type represents a sequence of Unicode characters, and encoding is often necessary when dealing with external systems that may not inherently support Unicode. Common encodings include UTF-8, UTF-16, and ASCII. For example, when reading from or writing to a file, specifying the appropriate character encoding ensures that the data is interpreted correctly.\n",
    "\n",
    "In data science, character encoding is essential when dealing with text data, especially in tasks like natural language processing (NLP). Different languages and systems may use different character encodings, and understanding and managing these encodings is crucial for proper data processing.\n",
    "\n",
    "Serialization:\n",
    "Serialization is the process of converting complex data structures, such as objects or dataframes, into a format that can be easily stored, transmitted, or reconstructed. Python provides modules like pickle and json for serialization. Pickle is Python's native serialization format, while JSON (JavaScript Object Notation) is a widely used human-readable format.\n",
    "\n",
    "In data science, serialization is beneficial for saving and sharing machine learning models, storing intermediate data, or exchanging information between different components of a system. For example, a machine learning model trained on one system can be serialized and then loaded on another system for predictions.`"
   ]
  },
  {
   "cell_type": "markdown",
   "id": "133a6327-b26b-4836-a10d-26098031c4c7",
   "metadata": {},
   "source": [
    "## Q2. What is nominal encoding? Provide an example of how you would use it in a real-world scenario."
   ]
  },
  {
   "cell_type": "markdown",
   "id": "3821258c-57f1-4f64-9898-e1e0fb6d3b51",
   "metadata": {},
   "source": [
    "Nominal encoding, in the context of data and categorical variables, refers to the process of representing categories or labels with unique numerical identifiers without implying any inherent order or hierarchy among them. Unlike ordinal encoding, where the order matters, nominal encoding is suitable when there is no specific order or ranking among the categories.\n",
    "\n",
    "In Python, one common approach for nominal encoding is to use one-hot encoding. This involves creating binary columns for each category, indicating the presence or absence of that category for each data point. Let's consider a real-world scenario where nominal encoding is applicable:"
   ]
  },
  {
   "cell_type": "code",
   "execution_count": 3,
   "id": "765019fc-7d08-4343-8f10-851ffd5fc512",
   "metadata": {},
   "outputs": [],
   "source": [
    "import seaborn as sns\n",
    "df=sns.load_dataset(\"tips\")"
   ]
  },
  {
   "cell_type": "code",
   "execution_count": 4,
   "id": "84d3830b-0266-4b6f-832c-d2a2fa349a33",
   "metadata": {},
   "outputs": [],
   "source": [
    "import pandas as pd\n",
    "from sklearn.preprocessing import OneHotEncoder"
   ]
  },
  {
   "cell_type": "code",
   "execution_count": 5,
   "id": "1baa8b1e-e18a-4d10-8333-bf98ec65c655",
   "metadata": {},
   "outputs": [],
   "source": [
    "encoder=OneHotEncoder()"
   ]
  },
  {
   "cell_type": "code",
   "execution_count": 6,
   "id": "02087641-f914-4841-aa81-969a73228986",
   "metadata": {},
   "outputs": [],
   "source": [
    "encoded=encoder.fit_transform(df[[\"sex\",\"smoker\",\"day\",\"time\"]])"
   ]
  },
  {
   "cell_type": "code",
   "execution_count": 7,
   "id": "3461894c-2a32-415c-95af-cd4eeb3dc1b2",
   "metadata": {},
   "outputs": [
    {
     "data": {
      "text/plain": [
       "array([[1., 0., 1., ..., 0., 1., 0.],\n",
       "       [0., 1., 1., ..., 0., 1., 0.],\n",
       "       [0., 1., 1., ..., 0., 1., 0.],\n",
       "       ...,\n",
       "       [0., 1., 0., ..., 0., 1., 0.],\n",
       "       [0., 1., 1., ..., 0., 1., 0.],\n",
       "       [1., 0., 1., ..., 1., 1., 0.]])"
      ]
     },
     "execution_count": 7,
     "metadata": {},
     "output_type": "execute_result"
    }
   ],
   "source": [
    "encoded.toarray()"
   ]
  },
  {
   "cell_type": "code",
   "execution_count": 8,
   "id": "1f2c27a1-d0d4-4a67-bd54-1cbc34404719",
   "metadata": {},
   "outputs": [],
   "source": [
    "import pandas as pd\n",
    "encoded_data=pd.DataFrame(encoded.toarray(),columns=encoder.get_feature_names_out())"
   ]
  },
  {
   "cell_type": "code",
   "execution_count": 9,
   "id": "ec394e02-a352-4d00-8d73-9c1f6a390e00",
   "metadata": {},
   "outputs": [
    {
     "data": {
      "text/html": [
       "<div>\n",
       "<style scoped>\n",
       "    .dataframe tbody tr th:only-of-type {\n",
       "        vertical-align: middle;\n",
       "    }\n",
       "\n",
       "    .dataframe tbody tr th {\n",
       "        vertical-align: top;\n",
       "    }\n",
       "\n",
       "    .dataframe thead th {\n",
       "        text-align: right;\n",
       "    }\n",
       "</style>\n",
       "<table border=\"1\" class=\"dataframe\">\n",
       "  <thead>\n",
       "    <tr style=\"text-align: right;\">\n",
       "      <th></th>\n",
       "      <th>total_bill</th>\n",
       "      <th>tip</th>\n",
       "      <th>sex</th>\n",
       "      <th>smoker</th>\n",
       "      <th>day</th>\n",
       "      <th>time</th>\n",
       "      <th>size</th>\n",
       "      <th>sex_Female</th>\n",
       "      <th>sex_Male</th>\n",
       "      <th>smoker_No</th>\n",
       "      <th>smoker_Yes</th>\n",
       "      <th>day_Fri</th>\n",
       "      <th>day_Sat</th>\n",
       "      <th>day_Sun</th>\n",
       "      <th>day_Thur</th>\n",
       "      <th>time_Dinner</th>\n",
       "      <th>time_Lunch</th>\n",
       "    </tr>\n",
       "  </thead>\n",
       "  <tbody>\n",
       "    <tr>\n",
       "      <th>0</th>\n",
       "      <td>16.99</td>\n",
       "      <td>1.01</td>\n",
       "      <td>Female</td>\n",
       "      <td>No</td>\n",
       "      <td>Sun</td>\n",
       "      <td>Dinner</td>\n",
       "      <td>2</td>\n",
       "      <td>1.0</td>\n",
       "      <td>0.0</td>\n",
       "      <td>1.0</td>\n",
       "      <td>0.0</td>\n",
       "      <td>0.0</td>\n",
       "      <td>0.0</td>\n",
       "      <td>1.0</td>\n",
       "      <td>0.0</td>\n",
       "      <td>1.0</td>\n",
       "      <td>0.0</td>\n",
       "    </tr>\n",
       "    <tr>\n",
       "      <th>1</th>\n",
       "      <td>10.34</td>\n",
       "      <td>1.66</td>\n",
       "      <td>Male</td>\n",
       "      <td>No</td>\n",
       "      <td>Sun</td>\n",
       "      <td>Dinner</td>\n",
       "      <td>3</td>\n",
       "      <td>0.0</td>\n",
       "      <td>1.0</td>\n",
       "      <td>1.0</td>\n",
       "      <td>0.0</td>\n",
       "      <td>0.0</td>\n",
       "      <td>0.0</td>\n",
       "      <td>1.0</td>\n",
       "      <td>0.0</td>\n",
       "      <td>1.0</td>\n",
       "      <td>0.0</td>\n",
       "    </tr>\n",
       "    <tr>\n",
       "      <th>2</th>\n",
       "      <td>21.01</td>\n",
       "      <td>3.50</td>\n",
       "      <td>Male</td>\n",
       "      <td>No</td>\n",
       "      <td>Sun</td>\n",
       "      <td>Dinner</td>\n",
       "      <td>3</td>\n",
       "      <td>0.0</td>\n",
       "      <td>1.0</td>\n",
       "      <td>1.0</td>\n",
       "      <td>0.0</td>\n",
       "      <td>0.0</td>\n",
       "      <td>0.0</td>\n",
       "      <td>1.0</td>\n",
       "      <td>0.0</td>\n",
       "      <td>1.0</td>\n",
       "      <td>0.0</td>\n",
       "    </tr>\n",
       "    <tr>\n",
       "      <th>3</th>\n",
       "      <td>23.68</td>\n",
       "      <td>3.31</td>\n",
       "      <td>Male</td>\n",
       "      <td>No</td>\n",
       "      <td>Sun</td>\n",
       "      <td>Dinner</td>\n",
       "      <td>2</td>\n",
       "      <td>0.0</td>\n",
       "      <td>1.0</td>\n",
       "      <td>1.0</td>\n",
       "      <td>0.0</td>\n",
       "      <td>0.0</td>\n",
       "      <td>0.0</td>\n",
       "      <td>1.0</td>\n",
       "      <td>0.0</td>\n",
       "      <td>1.0</td>\n",
       "      <td>0.0</td>\n",
       "    </tr>\n",
       "    <tr>\n",
       "      <th>4</th>\n",
       "      <td>24.59</td>\n",
       "      <td>3.61</td>\n",
       "      <td>Female</td>\n",
       "      <td>No</td>\n",
       "      <td>Sun</td>\n",
       "      <td>Dinner</td>\n",
       "      <td>4</td>\n",
       "      <td>1.0</td>\n",
       "      <td>0.0</td>\n",
       "      <td>1.0</td>\n",
       "      <td>0.0</td>\n",
       "      <td>0.0</td>\n",
       "      <td>0.0</td>\n",
       "      <td>1.0</td>\n",
       "      <td>0.0</td>\n",
       "      <td>1.0</td>\n",
       "      <td>0.0</td>\n",
       "    </tr>\n",
       "    <tr>\n",
       "      <th>...</th>\n",
       "      <td>...</td>\n",
       "      <td>...</td>\n",
       "      <td>...</td>\n",
       "      <td>...</td>\n",
       "      <td>...</td>\n",
       "      <td>...</td>\n",
       "      <td>...</td>\n",
       "      <td>...</td>\n",
       "      <td>...</td>\n",
       "      <td>...</td>\n",
       "      <td>...</td>\n",
       "      <td>...</td>\n",
       "      <td>...</td>\n",
       "      <td>...</td>\n",
       "      <td>...</td>\n",
       "      <td>...</td>\n",
       "      <td>...</td>\n",
       "    </tr>\n",
       "    <tr>\n",
       "      <th>239</th>\n",
       "      <td>29.03</td>\n",
       "      <td>5.92</td>\n",
       "      <td>Male</td>\n",
       "      <td>No</td>\n",
       "      <td>Sat</td>\n",
       "      <td>Dinner</td>\n",
       "      <td>3</td>\n",
       "      <td>0.0</td>\n",
       "      <td>1.0</td>\n",
       "      <td>1.0</td>\n",
       "      <td>0.0</td>\n",
       "      <td>0.0</td>\n",
       "      <td>1.0</td>\n",
       "      <td>0.0</td>\n",
       "      <td>0.0</td>\n",
       "      <td>1.0</td>\n",
       "      <td>0.0</td>\n",
       "    </tr>\n",
       "    <tr>\n",
       "      <th>240</th>\n",
       "      <td>27.18</td>\n",
       "      <td>2.00</td>\n",
       "      <td>Female</td>\n",
       "      <td>Yes</td>\n",
       "      <td>Sat</td>\n",
       "      <td>Dinner</td>\n",
       "      <td>2</td>\n",
       "      <td>1.0</td>\n",
       "      <td>0.0</td>\n",
       "      <td>0.0</td>\n",
       "      <td>1.0</td>\n",
       "      <td>0.0</td>\n",
       "      <td>1.0</td>\n",
       "      <td>0.0</td>\n",
       "      <td>0.0</td>\n",
       "      <td>1.0</td>\n",
       "      <td>0.0</td>\n",
       "    </tr>\n",
       "    <tr>\n",
       "      <th>241</th>\n",
       "      <td>22.67</td>\n",
       "      <td>2.00</td>\n",
       "      <td>Male</td>\n",
       "      <td>Yes</td>\n",
       "      <td>Sat</td>\n",
       "      <td>Dinner</td>\n",
       "      <td>2</td>\n",
       "      <td>0.0</td>\n",
       "      <td>1.0</td>\n",
       "      <td>0.0</td>\n",
       "      <td>1.0</td>\n",
       "      <td>0.0</td>\n",
       "      <td>1.0</td>\n",
       "      <td>0.0</td>\n",
       "      <td>0.0</td>\n",
       "      <td>1.0</td>\n",
       "      <td>0.0</td>\n",
       "    </tr>\n",
       "    <tr>\n",
       "      <th>242</th>\n",
       "      <td>17.82</td>\n",
       "      <td>1.75</td>\n",
       "      <td>Male</td>\n",
       "      <td>No</td>\n",
       "      <td>Sat</td>\n",
       "      <td>Dinner</td>\n",
       "      <td>2</td>\n",
       "      <td>0.0</td>\n",
       "      <td>1.0</td>\n",
       "      <td>1.0</td>\n",
       "      <td>0.0</td>\n",
       "      <td>0.0</td>\n",
       "      <td>1.0</td>\n",
       "      <td>0.0</td>\n",
       "      <td>0.0</td>\n",
       "      <td>1.0</td>\n",
       "      <td>0.0</td>\n",
       "    </tr>\n",
       "    <tr>\n",
       "      <th>243</th>\n",
       "      <td>18.78</td>\n",
       "      <td>3.00</td>\n",
       "      <td>Female</td>\n",
       "      <td>No</td>\n",
       "      <td>Thur</td>\n",
       "      <td>Dinner</td>\n",
       "      <td>2</td>\n",
       "      <td>1.0</td>\n",
       "      <td>0.0</td>\n",
       "      <td>1.0</td>\n",
       "      <td>0.0</td>\n",
       "      <td>0.0</td>\n",
       "      <td>0.0</td>\n",
       "      <td>0.0</td>\n",
       "      <td>1.0</td>\n",
       "      <td>1.0</td>\n",
       "      <td>0.0</td>\n",
       "    </tr>\n",
       "  </tbody>\n",
       "</table>\n",
       "<p>244 rows × 17 columns</p>\n",
       "</div>"
      ],
      "text/plain": [
       "     total_bill   tip     sex smoker   day    time  size  sex_Female  \\\n",
       "0         16.99  1.01  Female     No   Sun  Dinner     2         1.0   \n",
       "1         10.34  1.66    Male     No   Sun  Dinner     3         0.0   \n",
       "2         21.01  3.50    Male     No   Sun  Dinner     3         0.0   \n",
       "3         23.68  3.31    Male     No   Sun  Dinner     2         0.0   \n",
       "4         24.59  3.61  Female     No   Sun  Dinner     4         1.0   \n",
       "..          ...   ...     ...    ...   ...     ...   ...         ...   \n",
       "239       29.03  5.92    Male     No   Sat  Dinner     3         0.0   \n",
       "240       27.18  2.00  Female    Yes   Sat  Dinner     2         1.0   \n",
       "241       22.67  2.00    Male    Yes   Sat  Dinner     2         0.0   \n",
       "242       17.82  1.75    Male     No   Sat  Dinner     2         0.0   \n",
       "243       18.78  3.00  Female     No  Thur  Dinner     2         1.0   \n",
       "\n",
       "     sex_Male  smoker_No  smoker_Yes  day_Fri  day_Sat  day_Sun  day_Thur  \\\n",
       "0         0.0        1.0         0.0      0.0      0.0      1.0       0.0   \n",
       "1         1.0        1.0         0.0      0.0      0.0      1.0       0.0   \n",
       "2         1.0        1.0         0.0      0.0      0.0      1.0       0.0   \n",
       "3         1.0        1.0         0.0      0.0      0.0      1.0       0.0   \n",
       "4         0.0        1.0         0.0      0.0      0.0      1.0       0.0   \n",
       "..        ...        ...         ...      ...      ...      ...       ...   \n",
       "239       1.0        1.0         0.0      0.0      1.0      0.0       0.0   \n",
       "240       0.0        0.0         1.0      0.0      1.0      0.0       0.0   \n",
       "241       1.0        0.0         1.0      0.0      1.0      0.0       0.0   \n",
       "242       1.0        1.0         0.0      0.0      1.0      0.0       0.0   \n",
       "243       0.0        1.0         0.0      0.0      0.0      0.0       1.0   \n",
       "\n",
       "     time_Dinner  time_Lunch  \n",
       "0            1.0         0.0  \n",
       "1            1.0         0.0  \n",
       "2            1.0         0.0  \n",
       "3            1.0         0.0  \n",
       "4            1.0         0.0  \n",
       "..           ...         ...  \n",
       "239          1.0         0.0  \n",
       "240          1.0         0.0  \n",
       "241          1.0         0.0  \n",
       "242          1.0         0.0  \n",
       "243          1.0         0.0  \n",
       "\n",
       "[244 rows x 17 columns]"
      ]
     },
     "execution_count": 9,
     "metadata": {},
     "output_type": "execute_result"
    }
   ],
   "source": [
    "pd.concat([df,encoded_data],axis=1)"
   ]
  },
  {
   "cell_type": "markdown",
   "id": "936e5339-2db5-44d4-9868-ac5e726e9958",
   "metadata": {},
   "source": [
    "## Q3. In what situations is nominal encoding preferred over one-hot encoding? Provide a practical example."
   ]
  },
  {
   "cell_type": "markdown",
   "id": "f48bf1c4-a648-4508-8e6d-ec7b9f0e265c",
   "metadata": {},
   "source": [
    "Nominal encoding is preferred over one-hot encoding in situations where the categorical values do not have a meaningful ordinal relationship, and preserving that information is not crucial for the task at hand. Nominal encoding is suitable when the categorical values are purely labels without any inherent order or hierarchy.\n",
    "\n",
    "A practical example where nominal encoding is preferred is in the context of color categories. Consider a dataset that includes a \"Color\" feature with values like \"Red,\" \"Blue,\" and \"Green.\" These color categories don't have a natural order or ranking. If we were to use one-hot encoding here, it would unnecessarily introduce ordinal relationships between the colors, which might mislead the model.\n",
    "\n",
    "Using nominal encoding, each color would be assigned a unique numerical label (e.g., Red: 1, Blue: 2, Green: 3). This allows the model to understand and differentiate between the colors without implying any ordinal relationship between them. In scenarios where the order of categories is irrelevant, nominal encoding is a more suitable choice, as it avoids introducing unnecessary complexity and potentially misleading information into the model."
   ]
  },
  {
   "cell_type": "markdown",
   "id": "c5e05e9e-278b-4b47-a509-505c861f6a25",
   "metadata": {},
   "source": [
    "## Q4. Suppose you have a dataset containing categorical data with 5 unique values. Which encoding technique would you use to transform this data into a format suitable for machine learning algorithms? Explain why you made this choice."
   ]
  },
  {
   "cell_type": "markdown",
   "id": "30cee26f-06e2-4ede-8718-42979d292084",
   "metadata": {},
   "source": [
    "In the scenario where you have a dataset with categorical data featuring 5 unique values, an appropriate encoding technique would be one-hot encoding. This method is advantageous in machine learning because it transforms categorical variables into a binary matrix, where each unique value becomes a separate column and is assigned a binary value (1 or 0) to indicate its presence or absence.\n",
    "\n",
    "The reason for choosing one-hot encoding in this case is twofold. Firstly, it prevents the model from misinterpreting categorical values as ordinal when they don't have any inherent order. Secondly, it ensures that the machine learning algorithm treats each category independently, preventing any unintended numerical relationships between the categories. This is crucial, especially when dealing with nominal categorical data where there is no inherent order or hierarchy among the values.\n",
    "\n",
    "\n",
    "\n",
    "\n",
    "\n"
   ]
  },
  {
   "cell_type": "markdown",
   "id": "470a0b9b-bd66-471c-9cae-e0cc0a2008f8",
   "metadata": {},
   "source": [
    "## Q5. In a machine learning project, you have a dataset with 1000 rows and 5 columns. Two of the columns are categorical, and the remaining three columns are numerical. If you were to use nominal encoding to transform the categorical data, how many new columns would be created? Show your calculations."
   ]
  },
  {
   "cell_type": "markdown",
   "id": "fa29a2f8-afba-4657-9bb7-93423c1a2a28",
   "metadata": {},
   "source": [
    "In nominal encoding, each unique category in a categorical column is assigned a unique numerical label. The number of new columns created would be equal to the total number of unique categories across both categorical columns.\n",
    "\n",
    "Let's denote the number of unique categories in the first categorical column as N1 and the number of unique categories in the second categorical column as N2.\n",
    "\n",
    "The total number of new columns created can be calculated as follows:\n",
    "=N1+N2\n",
    "In this scenario, the total number of new columns created would depend on the specific number of unique categories in each of the two categorical columns.\n",
    "\n",
    "For example, if the first categorical column has 4 unique categories (N1=4) and the second categorical column has 3 unique categories (N2=3), then the total number of new columns created would be:=4+3=7"
   ]
  },
  {
   "cell_type": "markdown",
   "id": "375fef6d-2f2e-4fae-a1aa-4459ae9fc437",
   "metadata": {},
   "source": [
    "## Q6. You are working with a dataset containing information about different types of animals, including their species, habitat, and diet. Which encoding technique would you use to transform the categorical data into a format suitable for machine learning algorithms? Justify your answer.\n",
    "\n"
   ]
  },
  {
   "cell_type": "markdown",
   "id": "e5ad51ad-a927-4fbc-85d0-3392f4990c11",
   "metadata": {},
   "source": [
    "To transform categorical data in a dataset containing information about different types of animals, including their species, habitat, and diet, one suitable encoding technique for machine learning algorithms is one-hot encoding.\n",
    "\n",
    "Justification:\n",
    "\n",
    "Preservation of Information: One-hot encoding is appropriate when there is no inherent order or hierarchy among the categories, which is often the case with categorical features like species, habitat, and diet in animal datasets. One-hot encoding preserves the categorical distinctions without implying any ordinal relationships.\n",
    "\n",
    "Model Interpretability: One-hot encoding provides clear and interpretable features for machine learning models. Each unique category gets its own binary column, making it easy for the model to understand and distinguish between different categories.\n",
    "\n",
    "Avoiding Misleading Ordinality: If ordinal encoding were used, it might introduce unintended ordinal relationships between categories that don't actually exist. For example, assigning numerical values to different animal species could imply a hierarchy that may mislead the model."
   ]
  },
  {
   "cell_type": "markdown",
   "id": "6306bdd1-1917-4311-b326-85ce4c45a84c",
   "metadata": {},
   "source": [
    "## Q7.You are working on a project that involves predicting customer churn for a telecommunications company. You have a dataset with 5 features, including the customer's gender, age, contract type, monthly charges, and tenure. Which encoding technique(s) would you use to transform the categorical data into numerical data? Provide a step-by-step explanation of how you would implement the encoding.\n",
    "\n"
   ]
  },
  {
   "cell_type": "markdown",
   "id": "9136d6b9-fa33-40bc-a2a6-d4b52ff9bd78",
   "metadata": {},
   "source": [
    "To transform the categorical data in the dataset for predicting customer churn in a telecommunications company, you can use a combination of label encoding and one-hot encoding. Here's a step-by-step explanation of how you might implement this encoding:\n",
    "\n",
    "Label Encoding:\n",
    "\n",
    "Start by handling binary categorical variables, such as gender and contract type. Label encode these variables, assigning 0 or 1 to represent the two categories."
   ]
  },
  {
   "cell_type": "code",
   "execution_count": 12,
   "id": "952f2e40-ed9e-4d23-af3a-8a4576f3d0d9",
   "metadata": {},
   "outputs": [],
   "source": [
    "from sklearn.preprocessing import LabelEncoder ,OneHotEncoder"
   ]
  },
  {
   "cell_type": "code",
   "execution_count": null,
   "id": "9ee18caa-4d3b-4cbe-b114-b3966e2b0128",
   "metadata": {},
   "outputs": [],
   "source": [
    "label_encoder=LabelEncoder()\n",
    "Onehot_encoder=OneHotEncoder()\n",
    "df[\"gender\"]=LabelEncoder.fit_transform(df[\"gender\"])\n",
    "df[\"contract_type\"]=LabelEncoder.fit_transform(df[\"contract_type\"])"
   ]
  },
  {
   "cell_type": "markdown",
   "id": "79666cc4-62eb-4f45-982a-56ad1aeb3ec1",
   "metadata": {},
   "source": [
    "One-Hot Encoding:\n",
    "\n",
    "For categorical variables with more than two categories, like contract type, use one-hot encoding to create binary columns for each category."
   ]
  },
  {
   "cell_type": "code",
   "execution_count": null,
   "id": "9870c447-3116-4efd-bf15-cbbc7a95aec0",
   "metadata": {},
   "outputs": [],
   "source": [
    "df = pd.get_dummies(df, columns=['contract_type'], prefix='contract')\n"
   ]
  },
  {
   "cell_type": "markdown",
   "id": "2271b16e-54d7-4e92-861a-f3872cce6177",
   "metadata": {},
   "source": [
    "Concatenate DataFrames:\n",
    "\n",
    "If you used one-hot encoding, concatenate the new one-hot encoded columns with the original DataFrame."
   ]
  },
  {
   "cell_type": "code",
   "execution_count": null,
   "id": "bda9e765-a2a3-4154-bd04-424e3fc0c1f1",
   "metadata": {},
   "outputs": [],
   "source": [
    "df = pd.concat([df, one_hot_encoded_df], axis=1)"
   ]
  },
  {
   "cell_type": "markdown",
   "id": "049173e7-1be4-4d4c-98af-a6f6a47818b9",
   "metadata": {},
   "source": [
    "Drop Original Categorical Columns:\n",
    "\n",
    "After label encoding and one-hot encoding, drop the original categorical columns to avoid redundancy."
   ]
  },
  {
   "cell_type": "code",
   "execution_count": null,
   "id": "29030bcc-5f23-43b4-ad4e-5adaf6176f37",
   "metadata": {},
   "outputs": [],
   "source": [
    "df = df.drop(['gender', 'contract_type'], axis=1)\n"
   ]
  },
  {
   "cell_type": "markdown",
   "id": "8dae8d10-2bba-46c3-9e5d-7987ee3fc7ed",
   "metadata": {},
   "source": [
    "Now, your dataset is transformed into a numerical format suitable for machine learning algorithms. The label-encoded columns represent binary categorical variables, while the one-hot-encoded columns capture the different categories of the 'contract_type' variable. This approach ensures that the model can effectively learn from the categorical features without introducing misleading ordinal relationships and maintains interpretability."
   ]
  }
 ],
 "metadata": {
  "kernelspec": {
   "display_name": "Python 3 (ipykernel)",
   "language": "python",
   "name": "python3"
  },
  "language_info": {
   "codemirror_mode": {
    "name": "ipython",
    "version": 3
   },
   "file_extension": ".py",
   "mimetype": "text/x-python",
   "name": "python",
   "nbconvert_exporter": "python",
   "pygments_lexer": "ipython3",
   "version": "3.10.8"
  }
 },
 "nbformat": 4,
 "nbformat_minor": 5
}

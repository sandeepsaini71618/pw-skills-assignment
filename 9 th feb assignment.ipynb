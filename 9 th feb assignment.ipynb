{
 "cells": [
  {
   "cell_type": "code",
   "execution_count": 1,
   "id": "2186e291-37c7-4ee9-9621-832beb31bebf",
   "metadata": {},
   "outputs": [],
   "source": [
    "#Create a vehicle class with an init method having instance variables as name_of_vehicle, max_speed and average_of_vehicle."
   ]
  },
  {
   "cell_type": "code",
   "execution_count": 2,
   "id": "229d3ee2-29dc-48ef-948b-7ab3af4140d9",
   "metadata": {},
   "outputs": [],
   "source": [
    "class vehicle():\n",
    "    def __init__(self, name_of_vehicle, max_speed, average_of_vehicle):\n",
    "        self.name_of_vehicle=name_of_vehicle\n",
    "        self.max_speed=max_speed\n",
    "        self.average_of_vehicle=average_of_vehicle"
   ]
  },
  {
   "cell_type": "code",
   "execution_count": 3,
   "id": "89577081-d034-40d9-9455-6bef0a210444",
   "metadata": {},
   "outputs": [],
   "source": [
    "#Create a child class car from the vehicle class created in Que 1, which will inherit the vehicle class. Create a method named seating_capacity which takes capacity as an argument and returns the name of the vehicle and its seating capacity."
   ]
  },
  {
   "cell_type": "code",
   "execution_count": 11,
   "id": "21c589ee-5586-4d87-9511-88d5326d1e25",
   "metadata": {},
   "outputs": [],
   "source": [
    "class car(vehicle):\n",
    "    def seating_capacity(self,capicity):\n",
    "        return f\"your vehicle is {self.name_of_vehicle} which seat capacity {capicity}\"\n",
    "    \n",
    "\n",
    "Car=car(\"honda city\",\"180\",\"25 kmpl\")"
   ]
  },
  {
   "cell_type": "code",
   "execution_count": 12,
   "id": "3ab9b9fc-9248-40a7-8546-38d1b96cfbae",
   "metadata": {},
   "outputs": [
    {
     "name": "stdout",
     "output_type": "stream",
     "text": [
      "your vehicle is honda city which seat capacity 5\n"
     ]
    }
   ],
   "source": [
    "print(Car.seating_capacity(5))"
   ]
  },
  {
   "cell_type": "code",
   "execution_count": 13,
   "id": "fd23e857-3ad7-4996-b1c7-dbcdfcda5c01",
   "metadata": {},
   "outputs": [],
   "source": [
    "#What is multiple inheritance? Write a python code to demonstrate multiple inheritance."
   ]
  },
  {
   "cell_type": "markdown",
   "id": "2e4c6c14-d77a-4cd2-8b71-5858bc3728b0",
   "metadata": {},
   "source": [
    "Multiple inheritance is a feature in object-oriented programming languages where a class can inherit characteristics and behaviors from more than one parent class. This means that a class can have multiple base classes, and it can inherit attributes and methods from all of them."
   ]
  },
  {
   "cell_type": "code",
   "execution_count": 16,
   "id": "4e5fcaf0-55f9-43ea-9a38-8a0baeea09ba",
   "metadata": {},
   "outputs": [
    {
     "name": "stdout",
     "output_type": "stream",
     "text": [
      "this is method1 from class parent1\n",
      "this is method2 from class parent2\n",
      "this is method3 from class child\n"
     ]
    }
   ],
   "source": [
    "class parent1:\n",
    "    def method1(self):\n",
    "        print(\"this is method1 from class parent1\" )\n",
    "        \n",
    "class parent2:\n",
    "    def method2(self):\n",
    "        print(\"this is method2 from class parent2\" )\n",
    "\n",
    "class child(parent1,parent2):\n",
    "    def method3(self):\n",
    "        print(\"this is method3 from class child\" )\n",
    "    \n",
    "obj=child()\n",
    "obj.method1()\n",
    "obj.method2()\n",
    "obj.method3()"
   ]
  },
  {
   "cell_type": "code",
   "execution_count": 17,
   "id": "055286e3-4269-494a-956e-63f0c79db2e8",
   "metadata": {},
   "outputs": [],
   "source": [
    "#What are getter and setter in python? Create a class and create a getter and a setter method in this class."
   ]
  },
  {
   "cell_type": "markdown",
   "id": "99d4e5e4-3c0a-4ae3-acdb-ee2a627452a8",
   "metadata": {},
   "source": [
    "getters and setters are methods used to control access to the attributes of a class. They provide a way to retrieve and modify the values of private attributes, allowing encapsulation and ensuring data integrity. The getter method retrieves the value of an attribute, while the setter method sets or modifies its value."
   ]
  },
  {
   "cell_type": "code",
   "execution_count": 18,
   "id": "c17a75e0-573a-4461-bfb9-2e3de5c30553",
   "metadata": {},
   "outputs": [
    {
     "name": "stdout",
     "output_type": "stream",
     "text": [
      "sandeep\n"
     ]
    }
   ],
   "source": [
    "class person():\n",
    "    def __init__(self, name):\n",
    "        self._name=name\n",
    "    \n",
    "    def get_name(self):\n",
    "        return self._name\n",
    "    \n",
    "    def set_name(self,new_name):\n",
    "        self._name=new_name\n",
    "        \n",
    "        \n",
    "Person=person(\"sandeep\")\n",
    "print(Person.get_name())\n",
    "        "
   ]
  },
  {
   "cell_type": "code",
   "execution_count": 19,
   "id": "72253793-c5ba-4b22-b4ca-f3e26ee2fa83",
   "metadata": {},
   "outputs": [
    {
     "name": "stdout",
     "output_type": "stream",
     "text": [
      "pooja\n"
     ]
    }
   ],
   "source": [
    "Person.set_name(\"pooja\")\n",
    "print(Person.get_name())"
   ]
  },
  {
   "cell_type": "code",
   "execution_count": 20,
   "id": "11a0ba75-0085-418e-9d3e-ec9e9750d7be",
   "metadata": {},
   "outputs": [],
   "source": [
    "#What is method overriding in python? Write a python code to demonstrate method overriding"
   ]
  },
  {
   "cell_type": "markdown",
   "id": "565c8d84-4610-4076-ae83-2809f5cb66e9",
   "metadata": {},
   "source": [
    "Method overriding in Python is a feature that allows a subclass to provide a different implementation for a method that is already defined in its superclass. When a method is overridden, the version of the method defined in the subclass is executed instead of the version defined in the superclass. This allows the subclass to modify the behavior of the method according to its specific requirements."
   ]
  },
  {
   "cell_type": "code",
   "execution_count": 21,
   "id": "d8e60eef-9280-4396-bd3f-9c7ee6b36ec7",
   "metadata": {},
   "outputs": [],
   "source": [
    "class animal():\n",
    "    def make_sound(self):\n",
    "        print(\"this is generic sound\")\n",
    "        \n",
    "class cat(animal):\n",
    "    def make_sound(self):\n",
    "        print(\"cat sound MEOW\")\n",
    "        \n",
    "Animal=animal()\n",
    "Cat=cat()"
   ]
  },
  {
   "cell_type": "code",
   "execution_count": 22,
   "id": "bb143069-2611-4dec-a569-8c9cb0b8089f",
   "metadata": {},
   "outputs": [
    {
     "name": "stdout",
     "output_type": "stream",
     "text": [
      "this is generic sound\n",
      "cat sound MEOW\n"
     ]
    }
   ],
   "source": [
    "Animal.make_sound()\n",
    "Cat.make_sound()"
   ]
  },
  {
   "cell_type": "code",
   "execution_count": null,
   "id": "cf958ad9-8231-42e4-bbfe-51fa9aba9f22",
   "metadata": {},
   "outputs": [],
   "source": []
  }
 ],
 "metadata": {
  "kernelspec": {
   "display_name": "Python 3 (ipykernel)",
   "language": "python",
   "name": "python3"
  },
  "language_info": {
   "codemirror_mode": {
    "name": "ipython",
    "version": 3
   },
   "file_extension": ".py",
   "mimetype": "text/x-python",
   "name": "python",
   "nbconvert_exporter": "python",
   "pygments_lexer": "ipython3",
   "version": "3.10.8"
  }
 },
 "nbformat": 4,
 "nbformat_minor": 5
}

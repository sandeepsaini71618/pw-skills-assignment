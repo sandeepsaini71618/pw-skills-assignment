{
 "cells": [
  {
   "cell_type": "code",
   "execution_count": 1,
   "id": "5d8474b2-b2d7-495e-8cd1-4a0e5058ed13",
   "metadata": {},
   "outputs": [],
   "source": [
    "#Q1: What are the Probability Mass Function (PMF) and Probability Density Function (PDF)? Explain with an example."
   ]
  },
  {
   "cell_type": "markdown",
   "id": "bbdf6734-e64c-47af-97e8-0cc86916dd2a",
   "metadata": {},
   "source": [
    "Probability Mass Function (PMF):\n",
    "\n",
    "The PMF is a function that describes the probability of a discrete random variable taking on a specific value. In other words, it gives the probability of each possible outcome in the sample space. Mathematically, for a discrete random variables X, the PMF is denoted as = P(X=x), representing the probability of X taking the value x.\n",
    "\n",
    "Example:\n",
    "Consider the roll of a six-sided die. The PMF for this scenario would be:\n",
    "\n",
    "P(X=1)=P(X=2)=P(X=3)=P(X=4)=P(X=5)=P(X=6)= 1/6\n",
    " \n",
    "Since each side of the die has an equal chance of landing face up.\n",
    "\n",
    "Probability Density Function (PDF):\n",
    "\n",
    "The PDF is the analog of the PMF for continuous random variables. It describes the likelihood of a continuous random variable falling within a particular range. The area under the PDF curve over a range gives the probability of the variable falling within that range. Unlike the PMF, the value of a PDF at a specific point does not represent a probability; instead, it represents the density at that point.\n",
    "\n",
    "Example:\n",
    "Consider a standard normal distribution with mean (μ) of 0 and standard deviation (σ) of 1. The PDF for this distribution is given by the standard normal distribution formula:\n",
    "\n",
    "f(x)= fZ(z)=1√2πexp{−z22}\n",
    "\n",
    "f(x) represents the density at a specific point x. To find the probability of the variable falling within a range, you would integrate the PDF over that range.\n",
    "\n",
    "In summary, PMF is for discrete random variables, providing the probabilities of specific outcomes, while PDF is for continuous random variables, describing the density of the variable at different points along the distribution."
   ]
  },
  {
   "cell_type": "code",
   "execution_count": 2,
   "id": "022572cf-67f8-4881-9a57-b1afb3a5c723",
   "metadata": {},
   "outputs": [],
   "source": [
    "#Q2: What is Cumulative Density Function (CDF)? Explain with an example. Why CDF is used?"
   ]
  },
  {
   "cell_type": "markdown",
   "id": "b1674798-8a83-4558-b6da-22faf3544775",
   "metadata": {},
   "source": [
    "A Cumulative Distribution Function (CDF) is a mathematical function that describes the probability that a real-valued random variable takes on a value less than or equal to a given point. In other words, the CDF gives the cumulative probability up to a certain value.\n",
    "\n",
    "Mathematically, the CDF is denoted as  F(x) for a random variable X and is defined as:\n",
    "\n",
    "F(x)=P(X≤x)\n",
    "\n",
    "The CDF provides a way to understand the distribution of a random variable and is particularly useful in statistical analysis. It is a non-decreasing function that starts at 0 and approaches 1 as the value of x increases.\n",
    "\n",
    "Example:\n",
    "Let's consider the CDF for a standard six-sided die roll. The probability mass function (PMF) for a fair six-sided die is \n",
    "\n",
    "P(X=k)= 1/6 for k=1,2,3,4,5,6. The corresponding CDF would be:\n",
    "\n",
    "F(x)=P(X≤x)\n",
    "\n",
    "For \n",
    "x=1, F(1)=P(X≤1)= 1/6\n",
    "\n",
    "For \n",
    "x=2, F(2)=P(X≤2)= 2/6 = 1/3\n",
    "\n",
    "For \n",
    "x=3, F(3)=P(X≤3)= 3/6= 1/2\n",
    "And so on...\n",
    "\n",
    "Why CDF is used:\n",
    "\n",
    "Probability Calculation: The CDF provides an easy way to calculate the probability of a random variable being less than or equal to a specific value.\n",
    "\n",
    "Percentile Calculation: It helps in determining percentiles, e.g., the median corresponds to the 50th percentile.\n",
    "\n",
    "Comparisons between Random Variables: Enables comparison of different random variables or distributions by comparing their CDFs.\n",
    "\n",
    "Statistical Tests: CDF is often used in statistical tests and hypothesis testing.\n",
    "\n",
    "Visualization: CDFs are also useful for visualizing and comparing distributions, especially in survival analysis and reliability engineering.\n",
    "\n",
    "In summary, the Cumulative Distribution Function is a fundamental concept in probability and statistics, providing valuable insights into the characteristics of random variables and aiding in various analytical and inferential tasks."
   ]
  },
  {
   "cell_type": "code",
   "execution_count": 3,
   "id": "f8b79896-417d-483d-8278-d5da677a9021",
   "metadata": {},
   "outputs": [],
   "source": [
    "#Q3: What are some examples of situations where the normal distribution might be used as a model? Explain how the parameters of the normal distribution relate to the shape of the distribution."
   ]
  },
  {
   "cell_type": "markdown",
   "id": "eddbb92f-84a4-4298-b921-5334da3ef3d8",
   "metadata": {},
   "source": [
    "The normal distribution is commonly used to model situations where a random variable is influenced by a large number of independent and identically distributed factors. Some examples of situations where the normal distribution might be used as a model include:\n",
    "\n",
    "Measurement Errors:\n",
    "\n",
    "The distribution of measurement errors, assuming they are small and unbiased, often follows a normal distribution. This is particularly relevant in fields like physics or engineering.\n",
    "Biological Phenomena:\n",
    "\n",
    "Traits such as height, weight, and blood pressure in a population often exhibit a normal distribution due to the combination of various genetic and environmental factors.\n",
    "Financial Data:\n",
    "\n",
    "Returns on investments or stock prices over a short period of time are often modeled using a normal distribution. This is a fundamental assumption in many financial models.\n",
    "IQ Scores:\n",
    "\n",
    "Intelligence quotient (IQ) scores are often modeled as a normal distribution, with the mean set to 100 and a standard deviation of 15.\n",
    "Population Studies:\n",
    "\n",
    "Various human characteristics, such as the distribution of scores in standardized tests or the distribution of reaction times, can be approximated by a normal distribution.\n",
    "The parameters of the normal distribution are the mean (μ) and the standard deviation (σ). These parameters play a crucial role in determining the shape of the distribution:\n",
    "\n",
    "Mean (μ): The mean represents the central tendency of the distribution. It is the point around which the data is centered. Shifting the mean to the right or left on the x-axis will shift the entire distribution accordingly.\n",
    "\n",
    "Standard Deviation (σ): The standard deviation measures the spread or dispersion of the data. A larger standard deviation results in a wider, more spread-out distribution, while a smaller standard deviation leads to a narrower, more concentrated distribution.\n",
    "\n",
    "In summary, the normal distribution is a versatile model that is often applied in diverse fields where the effects of multiple independent factors combine to produce a random variable. The mean and standard deviation parameters help characterize the central tendency and variability of the distribution, respectively.\n",
    "\n",
    "\n",
    "\n",
    "\n"
   ]
  },
  {
   "cell_type": "code",
   "execution_count": 4,
   "id": "7e854d2f-af10-45e5-9749-865f849be397",
   "metadata": {},
   "outputs": [],
   "source": [
    "#Q4: Explain the importance of Normal Distribution. Give a few real-life examples of Normal Distribution."
   ]
  },
  {
   "cell_type": "markdown",
   "id": "9ed0e1fd-3630-4d99-bc1b-fe05c2d0773d",
   "metadata": {},
   "source": [
    "Normal Distribution (also known as the Gaussian distribution or bell curve) holds significant importance in statistical analysis and modeling. Here are a few reasons and real-life examples of its importance:\n",
    "\n",
    "Statistical Inference:\n",
    "\n",
    "Many statistical methods, such as hypothesis testing and confidence intervals, rely on assumptions of normality. The Central Limit Theorem states that the distribution of sample means approaches a normal distribution, making normality assumptions crucial for reliable statistical inference.\n",
    "Population Modeling:\n",
    "\n",
    "In many cases, natural processes tend to exhibit a distribution that approximates a normal distribution. This makes the normal distribution a convenient and realistic model for describing the variability of data in fields such as biology, physics, and social sciences.\n",
    "Quality Control:\n",
    "\n",
    "In manufacturing and quality control processes, measurements like product dimensions or weights often follow a normal distribution. Understanding the properties of normal distributions helps in setting quality standards and identifying deviations from the norm.\n",
    "Finance and Economics:\n",
    "\n",
    "In finance, stock prices and returns often exhibit a normal distribution, or a distribution that can be approximated by a normal distribution. This assumption is foundational in many financial models and risk assessments.\n",
    "Biometrics:\n",
    "\n",
    "Human characteristics, such as height, weight, and IQ scores, often approximate a normal distribution. This is valuable in fields like biometrics and psychology for understanding and comparing population traits.\n",
    "Error Distribution in Regression Analysis:\n",
    "\n",
    "In linear regression analysis, the assumption that the errors follow a normal distribution is important for making valid statistical inferences. This assumption is crucial for estimating confidence intervals and hypothesis testing.\n",
    "Machine Learning:\n",
    "\n",
    "Some machine learning algorithms, like those based on linear regression or neural networks, assume that the input features or model errors follow a normal distribution. Understanding the normal distribution is therefore beneficial when working with these algorithms.\n",
    "In summary, the normal distribution serves as a foundational concept in statistics and data science, providing a theoretical framework for understanding and modeling the distribution of various phenomena in the real world. Its ubiquity in diverse fields makes it a valuable tool for making predictions, drawing inferences, and solving problems in a wide range of applications."
   ]
  },
  {
   "cell_type": "code",
   "execution_count": 5,
   "id": "6edb4453-ff97-4012-9ce8-0ed45924138a",
   "metadata": {},
   "outputs": [],
   "source": [
    "#Q5: What is Bernaulli Distribution? Give an Example. What is the difference between Bernoulli Distribution and Binomial Distribution?"
   ]
  },
  {
   "cell_type": "markdown",
   "id": "f91ac408-0486-4970-bf29-c5778b6a189b",
   "metadata": {},
   "source": [
    "Bernoulli Distribution:\n",
    "The Bernoulli distribution is a probability distribution that models a single experiment with two possible outcomes – typically labeled as \"success\" and \"failure.\" It is characterized by a single parameter p, representing the probability of success. The probability mass function of the Bernoulli distribution is given by:\n",
    "\n",
    "P(X=k)=p^k ⋅(1−p) ^(1−k)\n",
    " \n",
    "where X is the random variable representing the outcome (1 for success, 0 for failure).\n",
    "\n",
    "Example:\n",
    "Consider a single toss of a fair coin, where getting a head is considered a success (1) and getting a tail is a failure (0). The probability of getting a head (p) is 0.5. This scenario can be modeled using a Bernoulli distribution.\n",
    "\n",
    "Difference between Bernoulli Distribution and Binomial Distribution:\n",
    "The key difference lies in the number of trials. The Bernoulli distribution models a single trial or experiment, whereas the Binomial distribution models the number of successes in a fixed number of independent Bernoulli trials.\n",
    "\n",
    "Binomial Distribution:\n",
    "The Binomial distribution is an extension of the Bernoulli distribution. It describes the number of successes (k) in a fixed number (n) of independent Bernoulli trials, each with the same probability of success p. The probability mass function of the Binomial distribution is given by:\n",
    "\n",
    "P(X=k)=( k & n)⋅ p^k ⋅ (1−p)^(n−k)\n",
    "\n",
    "where(k & n) is the binomial coefficient, representing the number of ways to choose k successes from n trials.\n",
    "\n",
    "In summary, the Bernoulli distribution models a single trial, while the Binomial distribution models the number of successes in a fixed number of independent trials. The Binomial distribution becomes a Bernoulli distribution when n=1."
   ]
  },
  {
   "cell_type": "code",
   "execution_count": 1,
   "id": "c4d4cb91-70fe-4083-8492-c2974ec04feb",
   "metadata": {},
   "outputs": [],
   "source": [
    "#Q6. Consider a dataset with a mean of 50 and a standard deviation of 10. If we assume that the dataset is normally distributed, what is the probability that a randomly selected observation will be greater than 60? Use the appropriate formula and show your calculations."
   ]
  },
  {
   "cell_type": "markdown",
   "id": "046024b0-2cfc-4eaf-8969-deec36d14bcd",
   "metadata": {},
   "source": [
    "The Z-score is calculated as:\n",
    "Z= (X−μ)/σ\n",
    "where:\n",
    "X is the value we're interested in (in this case, 60), μ is the mean of the distribution, σ is the standard deviation.\n",
    "In this case:\n",
    "μ=50, σ=10, X=60.\n",
    "So, the Z-score is:\n",
    "Z= (60−50)/10=1\n",
    "Now, we look up the probability associated with a Z-score of 1 in the standard normal distribution table. The table provides the cumulative probability, which is the probability that a random variable is less than or equal to a certain value.\n",
    "\n",
    "For Z = 1, the standard normal distribution table typically gives a value around 0.8413. This means that the probability of a randomly selected observation being less than or equal to 60 is approximately 0.8413.\n",
    "\n",
    "However, the question asks for the probability that a randomly selected observation will be greater than 60. Since the total area under the normal distribution curve is 1, we can subtract the cumulative probability we found from 1 to get the probability that a randomly selected observation is greater than 60:\n",
    "\n",
    "P(X>60)=1−P(X≤60) =1−0.8413≈ 0.1587\n",
    "P(X>60)≈0.1587\n",
    "\n",
    "So, the probability that a randomly selected observation will be greater than 60 is approximately 0.1587 or 15.87%."
   ]
  },
  {
   "cell_type": "code",
   "execution_count": 2,
   "id": "bfb0e236-89e8-4804-ba2e-fe8e30352848",
   "metadata": {},
   "outputs": [],
   "source": [
    "#Q7: Explain uniform Distribution with an example."
   ]
  },
  {
   "cell_type": "markdown",
   "id": "31c61c38-bab7-44bb-bd50-15190a16069e",
   "metadata": {},
   "source": [
    "Uniform Distribution is a probability distribution where every possible outcome is equally likely. In other words, all values in the distribution have the same probability of occurring. This distribution is often represented graphically as a horizontal line, indicating that the likelihood of any specific outcome is constant.\n",
    "\n",
    "Example: Rolling a Fair Die\n",
    "\n",
    "Consider rolling a fair six-sided die. Each face of the die has an equal probability of 1/6 of landing face up. This scenario follows a discrete uniform distribution since there are a finite number of possible outcomes (1, 2, 3, 4, 5, 6), and each has the same probability.\n",
    "\n",
    "For a continuous uniform distribution, imagine selecting a random number between a and b, where a and b are any two real numbers, and every value in that range has an equal probability of being chosen. For instance, picking a random number between 0 and 1 from a uniform distribution means that any number in that range has an equal chance of being selected."
   ]
  },
  {
   "cell_type": "code",
   "execution_count": 3,
   "id": "a04d0fc4-da37-4939-85d0-82d6318006b0",
   "metadata": {},
   "outputs": [],
   "source": [
    "#Q8: What is the z score? State the importance of the z score."
   ]
  },
  {
   "cell_type": "markdown",
   "id": "5a540940-184a-45b5-82f0-43b299284426",
   "metadata": {},
   "source": [
    "The z score, also known as the standard score or z-value, is a statistical measure that quantifies the relationship of a data point to the mean of a group of data. It is expressed in terms of standard deviations from the mean. The formula for calculating the z score of a data point (x) in a distribution with mean (μ) and standard deviation (σ) is given by:\n",
    "\n",
    "z=  x−μ/σ\n",
    "\n",
    "The importance of the z score lies in its ability to standardize and normalize data, making it easier to compare and analyze values from different datasets or distributions. Here are key points regarding the importance of the z score:\n",
    "\n",
    "Standardization: Z scores transform raw data into a common scale, allowing for the comparison of values from different datasets. This is particularly useful when dealing with variables measured in different units or with different scales.\n",
    "\n",
    "Identification of Outliers: Z scores help identify outliers by flagging data points that deviate significantly from the mean. Typically, values with z scores beyond a certain threshold (e.g., ±2 or ±3) are considered outliers.\n",
    "\n",
    "Probability and Percentiles: Z scores are used in conjunction with the standard normal distribution (z-distribution) to determine the probability associated with a particular value. This aids in understanding the relative position of a data point within a distribution.\n",
    "\n",
    "Data Transformation: Z scores are often employed in data preprocessing and feature engineering. Transforming variables into z scores can simplify analyses such as regression and clustering, as variables are on a common scale.\n",
    "\n",
    "Normalization: In some statistical analyses and machine learning algorithms, normalizing variables using z scores can improve model performance by ensuring that all features contribute equally to the analysis.\n",
    "\n",
    "In summary, the z score is a valuable tool in statistics and data science, providing a standardized measure for comparing and interpreting data points in various contexts."
   ]
  },
  {
   "cell_type": "code",
   "execution_count": 4,
   "id": "4309ddea-9941-43ce-88d2-9be41616792c",
   "metadata": {},
   "outputs": [],
   "source": [
    "#Q9: What is Central Limit Theorem? State the significance of the Central Limit Theorem."
   ]
  },
  {
   "cell_type": "markdown",
   "id": "5e04686e-0a83-437a-9b88-5ef17a75f358",
   "metadata": {},
   "source": [
    "The Central Limit Theorem (CLT) is a fundamental concept in statistics and probability theory. It states that, regardless of the shape of the original distribution, the distribution of the sum (or average) of a large number of independent, identically distributed random variables approaches a normal (Gaussian) distribution. This holds true as long as the sample size is sufficiently large.\n",
    "\n",
    "The significance of the Central Limit Theorem lies in its applicability to various real-world scenarios and its role in inferential statistics. Here are key points that highlight its importance:\n",
    "\n",
    "Normal Distribution Approximation: The CLT allows us to approximate the distribution of sample means or sums with a normal distribution, even if the underlying population distribution is not normal. This is crucial because the normal distribution is well understood and extensively studied, facilitating easier statistical analysis.\n",
    "\n",
    "Statistical Inference: The CLT forms the basis for many statistical inference methods, such as confidence intervals and hypothesis testing. When dealing with sample means, the CLT enables the use of normal distribution-based methods, making it easier to make inferences about population parameters.\n",
    "\n",
    "Sample Size Independence: The CLT emphasizes that the size of the original population distribution does not matter as long as the sample size is sufficiently large. This makes it a practical tool in situations where the population distribution is unknown or complex.\n",
    "\n",
    "Population Distribution Irrelevance: The CLT is not contingent on the specific form of the population distribution. It applies to a wide range of distributions, making it a robust tool for analyzing data in various fields, from finance to biology.\n",
    "\n",
    "Foundation for Hypothesis Testing: In hypothesis testing, where we make decisions about populations based on samples, the CLT plays a key role. It provides a basis for constructing sampling distributions and determining the probability of observing certain sample statistics.\n",
    "\n",
    "In summary, the Central Limit Theorem is a cornerstone of statistical theory, providing a bridge between the characteristics of samples and populations. Its significance lies in its ability to simplify complex real-world data into a form that is amenable to statistical analysis, enabling researchers and data scientists to make informed decisions and draw reliable conclusions from their data."
   ]
  },
  {
   "cell_type": "code",
   "execution_count": 5,
   "id": "b6ffaf38-ca86-412f-9ed1-ecb18584f45c",
   "metadata": {},
   "outputs": [],
   "source": [
    "#Q10: State the assumptions of the Central Limit Theorem."
   ]
  },
  {
   "cell_type": "markdown",
   "id": "13903afc-85bb-4650-9994-17bee5f24bd7",
   "metadata": {},
   "source": [
    "The Central Limit Theorem (CLT) is a fundamental concept in statistics, particularly in the context of hypothesis testing and confidence intervals. It provides the basis for making inferences about population parameters based on sample data. The assumptions of the Central Limit Theorem are as follows:\n",
    "\n",
    "Random Sampling: The observations in the sample should be selected randomly and independently from the population. This means that each member of the population has an equal chance of being included in the sample, and the selection of one observation should not influence the selection of another.\n",
    "\n",
    "Sample Size: The sample size should be sufficiently large. While there is no strict rule for what constitutes a \"sufficiently large\" sample, a commonly accepted guideline is that the sample size should be at least 30. However, for populations with known non-normal distributions, larger sample sizes may be necessary.\n",
    "\n",
    "Population Distribution: The shape of the population distribution from which the samples are drawn does not matter, as long as the sample size is large enough. The Central Limit Theorem becomes more applicable as the sample size increases, even if the underlying population distribution is not normal.\n",
    "\n",
    "Independent Sampling: The samples should be drawn with replacement or, if without replacement, the sample size should be no more than 10% of the population size. This ensures that individual observations in the sample are independent of each other.\n",
    "\n",
    "Finite Variance: The population should have a finite variance. This means that the spread or variability of the values in the population should not be infinite.\n",
    "\n",
    "When these assumptions are met, the Central Limit Theorem states that the distribution of the sample mean will be approximately normally distributed, regardless of the shape of the population distribution. This normal distribution becomes increasingly accurate as the sample size increases. This property is crucial for making statistical inferences about population parameters based on sample data."
   ]
  },
  {
   "cell_type": "code",
   "execution_count": null,
   "id": "26569d07-e0a5-4b99-b3df-3144b8d1e5bc",
   "metadata": {},
   "outputs": [],
   "source": []
  }
 ],
 "metadata": {
  "kernelspec": {
   "display_name": "Python 3 (ipykernel)",
   "language": "python",
   "name": "python3"
  },
  "language_info": {
   "codemirror_mode": {
    "name": "ipython",
    "version": 3
   },
   "file_extension": ".py",
   "mimetype": "text/x-python",
   "name": "python",
   "nbconvert_exporter": "python",
   "pygments_lexer": "ipython3",
   "version": "3.10.8"
  }
 },
 "nbformat": 4,
 "nbformat_minor": 5
}

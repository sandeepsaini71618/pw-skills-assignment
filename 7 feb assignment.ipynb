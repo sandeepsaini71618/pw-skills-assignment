{
 "cells": [
  {
   "cell_type": "markdown",
   "id": "b25eceb8-de32-4b68-ba79-83e983de97ac",
   "metadata": {},
   "source": [
    "You are writing code for a company. The requirement of the company is that you create a python\n",
    "function that will check whether the password entered by the user is correct or not. The function should\n",
    "take the password as input and return the string “Valid Password” if the entered password follows the\n",
    "below-given password guidelines else it should return “Invalid Password”.\n",
    "\n",
    "\n",
    "Note: 1. The Password should contain at least two uppercase letters and at least two lowercase letters.\n",
    "\n",
    "2. The Password should contain at least a number and three special characters.\n",
    "\n",
    "3. The length of the password should be 10 characters long.`"
   ]
  },
  {
   "cell_type": "code",
   "execution_count": 1,
   "id": "1d64dc8d-aa3c-4d19-83a2-39b02b1db6d2",
   "metadata": {},
   "outputs": [],
   "source": [
    "def password(user):\n",
    "   \n",
    "    uppercase=0\n",
    "    lowercase=0\n",
    "    number=0\n",
    "    special_character=0\n",
    "    lenght_password=0   \n",
    "    \n",
    "    \n",
    "    for i in user:\n",
    "        if i.isupper():\n",
    "            uppercase+=1\n",
    "        elif i.islower():\n",
    "            lowercase+=1\n",
    "        elif i.isdigit():\n",
    "            number+=1\n",
    "        elif i in \"!@#$%^&*()\":\n",
    "            special_character+=1\n",
    "            \n",
    "    if (\n",
    "        uppercase>=2\n",
    "        and lowercase>=2\n",
    "        and number>=1\n",
    "        and special_character>=3\n",
    "        and len(user)==10\n",
    "    ):\n",
    "        print(\"password is valid\")\n",
    "        \n",
    "    else:\n",
    "        print(\"password is invalid\")\n",
    "\n",
    "      "
   ]
  },
  {
   "cell_type": "code",
   "execution_count": 2,
   "id": "0830b053-69b1-472b-bf3b-5ccec4ac6b4a",
   "metadata": {},
   "outputs": [
    {
     "name": "stdin",
     "output_type": "stream",
     "text": [
      "enter the password dsajdkjsakdjklasjd\n"
     ]
    },
    {
     "name": "stdout",
     "output_type": "stream",
     "text": [
      "password is invalid\n",
      "None\n"
     ]
    }
   ],
   "source": [
    "user=input(\"enter the password\")\n",
    "\n",
    "result=password(user)\n",
    "print(result)"
   ]
  },
  {
   "cell_type": "raw",
   "id": "ee3e7404-dc59-4383-8e3d-0b669eef807c",
   "metadata": {},
   "source": [
    "Solve the below-given questions using at least one of the following: \n",
    "\n",
    "1. Lambda function\n",
    "2. Filter function\n",
    "3. Zap function\n",
    "4. List Comprehension\n",
    "B Check if the string starts with a particular letter\n",
    "B Check if the string is numeric\n",
    "B Sort a list of tuples having fruit names and their quantity. [(\"mango\",99),(\"orange\",80), (\"grapes\", 1000)-\n",
    "B Find the squares of numbers from 1 to 10\n",
    "B Find the cube root of numbers from 1 to 10\n",
    "B Check if a given number is even\n",
    "B Filter odd numbers from the given list.\n",
    "\n",
    " [1,2,3,4,5,6,7,8,9,10-\n",
    "B Sort a list of integers into positive and negative integers lists.\n",
    "\n",
    " [1,2,3,4,5,6,-1,-2,-3,-4,-5,0]"
   ]
  },
  {
   "cell_type": "markdown",
   "id": "868f3f41-199e-4921-9043-0cacca95731b",
   "metadata": {},
   "source": [
    "Check if the string starts with a particular letterY"
   ]
  },
  {
   "cell_type": "code",
   "execution_count": 3,
   "id": "611060c8-ef29-4c81-8cf6-50a50df41665",
   "metadata": {},
   "outputs": [
    {
     "name": "stdout",
     "output_type": "stream",
     "text": [
      "['orange']\n"
     ]
    }
   ],
   "source": [
    "lst=[\"apple\",\"orange\",\"pineapple\",\"mango\"]\n",
    "letter=\"o\"\n",
    "start_letter=filter(lambda s: s.startswith(letter),lst)\n",
    "print(list(start_letter))"
   ]
  },
  {
   "cell_type": "markdown",
   "id": "731c0faa-37e6-4555-92a0-ff7d224b3778",
   "metadata": {},
   "source": [
    "Check if the string is numeric:\n"
   ]
  },
  {
   "cell_type": "code",
   "execution_count": 4,
   "id": "4e0ca6e2-7c3f-4412-a1ff-f2d1538c43c9",
   "metadata": {},
   "outputs": [
    {
     "name": "stdout",
     "output_type": "stream",
     "text": [
      "['41000', '45454']\n"
     ]
    }
   ],
   "source": [
    "lst1=[\"gold\",\"41000\",\"silver\",\"45454\",\"gun\"]\n",
    "string_num=filter(lambda s: s.isnumeric(),lst1)\n",
    "print(list(string_num))"
   ]
  },
  {
   "cell_type": "markdown",
   "id": "b96cbde2-6f27-4d2f-98b5-24d5014cc4ef",
   "metadata": {},
   "source": [
    "Sort a list of tuples having fruit names and their quantity:"
   ]
  },
  {
   "cell_type": "code",
   "execution_count": 5,
   "id": "4ad5dda9-71a6-42e2-a078-9f005031cbcb",
   "metadata": {},
   "outputs": [
    {
     "name": "stdout",
     "output_type": "stream",
     "text": [
      "[('orange', 80), ('mango', 99), ('grapes', 1000)]\n"
     ]
    }
   ],
   "source": [
    "lst2= [(\"mango\",99),(\"orange\",80), (\"grapes\", 1000)]\n",
    "sorted_fruits=sorted(lst2,key=lambda s:s[1])\n",
    "print(sorted_fruits)"
   ]
  },
  {
   "cell_type": "markdown",
   "id": "4cc4d562-081d-4253-96ce-1fded40a4ff8",
   "metadata": {},
   "source": [
    "Find the squares of numbers from 1 to 10:\n",
    "Using list comprehension:"
   ]
  },
  {
   "cell_type": "code",
   "execution_count": 6,
   "id": "93035722-9912-47a8-9092-9ac5f20b87f2",
   "metadata": {},
   "outputs": [
    {
     "name": "stdout",
     "output_type": "stream",
     "text": [
      "[1, 4, 9, 16, 25, 36, 49, 64, 81, 100]\n"
     ]
    }
   ],
   "source": [
    "squre=[x**2 for x in range(1,11)]\n",
    "print(squre)"
   ]
  },
  {
   "cell_type": "markdown",
   "id": "e161540b-334f-4d96-a82f-a7a8a9dfdfee",
   "metadata": {},
   "source": [
    "Find the cube root of numbers from 1 to 10:\n",
    "Using list comprehension:"
   ]
  },
  {
   "cell_type": "code",
   "execution_count": 7,
   "id": "5be1caa8-f664-4275-9a64-565acce30e87",
   "metadata": {},
   "outputs": [
    {
     "name": "stdout",
     "output_type": "stream",
     "text": [
      "[1.0, 1.2599210498948732, 1.4422495703074083, 1.5874010519681994, 1.7099759466766968, 1.8171205928321397, 1.912931182772389, 2.0, 2.080083823051904, 2.154434690031884]\n"
     ]
    }
   ],
   "source": [
    "cube_root=[x**(1/3) for x in range(1,11)]\n",
    "print(cube_root)"
   ]
  },
  {
   "cell_type": "markdown",
   "id": "93af6c66-76a2-43b7-9110-0d4fbeb29ebf",
   "metadata": {},
   "source": [
    "Check if a given number is even:\n",
    "\n"
   ]
  },
  {
   "cell_type": "code",
   "execution_count": 9,
   "id": "e1ba2709-c873-4915-beb7-6f5a4cb64373",
   "metadata": {},
   "outputs": [
    {
     "name": "stdin",
     "output_type": "stream",
     "text": [
      "enter the no 25\n"
     ]
    },
    {
     "name": "stdout",
     "output_type": "stream",
     "text": [
      "False\n"
     ]
    }
   ],
   "source": [
    "number=int(input(\"enter the no\"))\n",
    "is_even=lambda x:x%2==0\n",
    "print(is_even(number))"
   ]
  },
  {
   "cell_type": "markdown",
   "id": "20e5ff13-f4a0-4a16-be77-53272996ae35",
   "metadata": {},
   "source": [
    "Filter odd numbers from the given list.\n",
    "\n",
    " [1,2,3,4,5,6,7,8,9,10]"
   ]
  },
  {
   "cell_type": "code",
   "execution_count": 10,
   "id": "05dd2675-48dd-45e1-914d-a08bd5d11a94",
   "metadata": {},
   "outputs": [
    {
     "name": "stdout",
     "output_type": "stream",
     "text": [
      "[1, 3, 5, 7, 9]\n"
     ]
    }
   ],
   "source": [
    "lst=[1,2,3,4,5,6,7,8,9,10]\n",
    "odd_number=list(filter(lambda x: x%2!=0,lst))\n",
    "print(odd_number)"
   ]
  },
  {
   "cell_type": "markdown",
   "id": "136bfe7d-1664-4f34-83e3-9eafdad15da0",
   "metadata": {},
   "source": [
    "Sort a list of integers into positive and negative integers lists.\n",
    "\n",
    " [1,2,3,4,5,6,-1,-2,-3,-4,-5,0]"
   ]
  },
  {
   "cell_type": "code",
   "execution_count": 12,
   "id": "a0eee39c-8d67-4d2c-8040-da8a4da1ced1",
   "metadata": {},
   "outputs": [
    {
     "name": "stdout",
     "output_type": "stream",
     "text": [
      "[1, 2, 3, 4, 5, 6, 0]\n",
      "[-1, -2, -3, -4, -5]\n"
     ]
    }
   ],
   "source": [
    "lst=[1,2,3,4,5,6,-1,-2,-3,-4,-5,0]\n",
    "posotive_num=list(filter(lambda x:x>=0,lst))\n",
    "negative_num=list(filter(lambda x:x<0,lst))\n",
    "print(posotive_num)\n",
    "print(negative_num)"
   ]
  },
  {
   "cell_type": "code",
   "execution_count": null,
   "id": "b15b2db5-d5cc-48e6-805e-fd202f6ff192",
   "metadata": {},
   "outputs": [],
   "source": []
  }
 ],
 "metadata": {
  "kernelspec": {
   "display_name": "Python 3 (ipykernel)",
   "language": "python",
   "name": "python3"
  },
  "language_info": {
   "codemirror_mode": {
    "name": "ipython",
    "version": 3
   },
   "file_extension": ".py",
   "mimetype": "text/x-python",
   "name": "python",
   "nbconvert_exporter": "python",
   "pygments_lexer": "ipython3",
   "version": "3.10.8"
  }
 },
 "nbformat": 4,
 "nbformat_minor": 5
}
